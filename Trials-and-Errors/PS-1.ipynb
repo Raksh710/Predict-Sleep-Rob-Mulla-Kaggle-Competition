{
 "cells": [
  {
   "cell_type": "code",
   "execution_count": 1,
   "id": "47fecb66-eb30-47d4-98f2-bc46e448409e",
   "metadata": {},
   "outputs": [],
   "source": [
    "import pandas as pd, numpy as np, matplotlib.pyplot as plt, seaborn as sns"
   ]
  },
  {
   "cell_type": "code",
   "execution_count": 2,
   "id": "301f17ad-dc78-45c2-9b78-ff3f17eea4fb",
   "metadata": {},
   "outputs": [],
   "source": [
    "df = pd.read_csv('train.csv',index_col='date', parse_dates=True)"
   ]
  },
  {
   "cell_type": "code",
   "execution_count": 3,
   "id": "e3581afa-93fd-4f93-9f1a-75c3243776cc",
   "metadata": {},
   "outputs": [
    {
     "data": {
      "text/html": [
       "<div>\n",
       "<style scoped>\n",
       "    .dataframe tbody tr th:only-of-type {\n",
       "        vertical-align: middle;\n",
       "    }\n",
       "\n",
       "    .dataframe tbody tr th {\n",
       "        vertical-align: top;\n",
       "    }\n",
       "\n",
       "    .dataframe thead th {\n",
       "        text-align: right;\n",
       "    }\n",
       "</style>\n",
       "<table border=\"1\" class=\"dataframe\">\n",
       "  <thead>\n",
       "    <tr style=\"text-align: right;\">\n",
       "      <th></th>\n",
       "      <th>sleep_hours</th>\n",
       "    </tr>\n",
       "    <tr>\n",
       "      <th>date</th>\n",
       "      <th></th>\n",
       "    </tr>\n",
       "  </thead>\n",
       "  <tbody>\n",
       "    <tr>\n",
       "      <th>2015-02-19</th>\n",
       "      <td>6.400000</td>\n",
       "    </tr>\n",
       "    <tr>\n",
       "      <th>2015-02-20</th>\n",
       "      <td>7.583333</td>\n",
       "    </tr>\n",
       "    <tr>\n",
       "      <th>2015-02-21</th>\n",
       "      <td>6.350000</td>\n",
       "    </tr>\n",
       "    <tr>\n",
       "      <th>2015-02-22</th>\n",
       "      <td>6.500000</td>\n",
       "    </tr>\n",
       "    <tr>\n",
       "      <th>2015-02-23</th>\n",
       "      <td>8.916667</td>\n",
       "    </tr>\n",
       "    <tr>\n",
       "      <th>...</th>\n",
       "      <td>...</td>\n",
       "    </tr>\n",
       "    <tr>\n",
       "      <th>2021-12-25</th>\n",
       "      <td>7.933333</td>\n",
       "    </tr>\n",
       "    <tr>\n",
       "      <th>2021-12-26</th>\n",
       "      <td>3.850000</td>\n",
       "    </tr>\n",
       "    <tr>\n",
       "      <th>2021-12-29</th>\n",
       "      <td>6.175000</td>\n",
       "    </tr>\n",
       "    <tr>\n",
       "      <th>2021-12-30</th>\n",
       "      <td>5.158333</td>\n",
       "    </tr>\n",
       "    <tr>\n",
       "      <th>2021-12-31</th>\n",
       "      <td>5.908333</td>\n",
       "    </tr>\n",
       "  </tbody>\n",
       "</table>\n",
       "<p>2354 rows × 1 columns</p>\n",
       "</div>"
      ],
      "text/plain": [
       "            sleep_hours\n",
       "date                   \n",
       "2015-02-19     6.400000\n",
       "2015-02-20     7.583333\n",
       "2015-02-21     6.350000\n",
       "2015-02-22     6.500000\n",
       "2015-02-23     8.916667\n",
       "...                 ...\n",
       "2021-12-25     7.933333\n",
       "2021-12-26     3.850000\n",
       "2021-12-29     6.175000\n",
       "2021-12-30     5.158333\n",
       "2021-12-31     5.908333\n",
       "\n",
       "[2354 rows x 1 columns]"
      ]
     },
     "execution_count": 3,
     "metadata": {},
     "output_type": "execute_result"
    }
   ],
   "source": [
    "df"
   ]
  },
  {
   "cell_type": "code",
   "execution_count": 4,
   "id": "aca1c32e-0394-4c00-8eca-52e7126cb751",
   "metadata": {},
   "outputs": [],
   "source": [
    "df_tsa = df.copy()"
   ]
  },
  {
   "cell_type": "code",
   "execution_count": 5,
   "id": "cd3faddf-1341-4f23-b280-8ce1fd56fb31",
   "metadata": {},
   "outputs": [
    {
     "name": "stdout",
     "output_type": "stream",
     "text": [
      "<class 'pandas.core.frame.DataFrame'>\n",
      "DatetimeIndex: 2354 entries, 2015-02-19 to 2021-12-31\n",
      "Data columns (total 1 columns):\n",
      " #   Column       Non-Null Count  Dtype  \n",
      "---  ------       --------------  -----  \n",
      " 0   sleep_hours  2354 non-null   float64\n",
      "dtypes: float64(1)\n",
      "memory usage: 36.8 KB\n"
     ]
    }
   ],
   "source": [
    "df.info()"
   ]
  },
  {
   "cell_type": "code",
   "execution_count": 6,
   "id": "5e809c81-29cf-428f-b387-c034a92448d5",
   "metadata": {},
   "outputs": [],
   "source": [
    "test = pd.read_csv('test.csv', parse_dates=['date'])"
   ]
  },
  {
   "cell_type": "code",
   "execution_count": 7,
   "id": "fa65ba31-b604-4f13-a090-505c05c66959",
   "metadata": {},
   "outputs": [
    {
     "name": "stdout",
     "output_type": "stream",
     "text": [
      "<class 'pandas.core.frame.DataFrame'>\n",
      "RangeIndex: 419 entries, 0 to 418\n",
      "Data columns (total 2 columns):\n",
      " #   Column       Non-Null Count  Dtype         \n",
      "---  ------       --------------  -----         \n",
      " 0   date         419 non-null    datetime64[ns]\n",
      " 1   sleep_hours  419 non-null    int64         \n",
      "dtypes: datetime64[ns](1), int64(1)\n",
      "memory usage: 6.7 KB\n"
     ]
    }
   ],
   "source": [
    "test.info()"
   ]
  },
  {
   "cell_type": "code",
   "execution_count": 8,
   "id": "1eefe63d-1852-4e59-a141-97136547a6ec",
   "metadata": {},
   "outputs": [
    {
     "data": {
      "text/html": [
       "<div>\n",
       "<style scoped>\n",
       "    .dataframe tbody tr th:only-of-type {\n",
       "        vertical-align: middle;\n",
       "    }\n",
       "\n",
       "    .dataframe tbody tr th {\n",
       "        vertical-align: top;\n",
       "    }\n",
       "\n",
       "    .dataframe thead th {\n",
       "        text-align: right;\n",
       "    }\n",
       "</style>\n",
       "<table border=\"1\" class=\"dataframe\">\n",
       "  <thead>\n",
       "    <tr style=\"text-align: right;\">\n",
       "      <th></th>\n",
       "      <th>date</th>\n",
       "      <th>sleep_hours</th>\n",
       "    </tr>\n",
       "  </thead>\n",
       "  <tbody>\n",
       "    <tr>\n",
       "      <th>0</th>\n",
       "      <td>2022-01-01</td>\n",
       "      <td>1</td>\n",
       "    </tr>\n",
       "    <tr>\n",
       "      <th>1</th>\n",
       "      <td>2022-01-02</td>\n",
       "      <td>1</td>\n",
       "    </tr>\n",
       "    <tr>\n",
       "      <th>2</th>\n",
       "      <td>2022-01-03</td>\n",
       "      <td>1</td>\n",
       "    </tr>\n",
       "    <tr>\n",
       "      <th>3</th>\n",
       "      <td>2022-01-04</td>\n",
       "      <td>1</td>\n",
       "    </tr>\n",
       "    <tr>\n",
       "      <th>4</th>\n",
       "      <td>2022-01-05</td>\n",
       "      <td>1</td>\n",
       "    </tr>\n",
       "    <tr>\n",
       "      <th>...</th>\n",
       "      <td>...</td>\n",
       "      <td>...</td>\n",
       "    </tr>\n",
       "    <tr>\n",
       "      <th>414</th>\n",
       "      <td>2023-03-12</td>\n",
       "      <td>1</td>\n",
       "    </tr>\n",
       "    <tr>\n",
       "      <th>415</th>\n",
       "      <td>2023-03-13</td>\n",
       "      <td>1</td>\n",
       "    </tr>\n",
       "    <tr>\n",
       "      <th>416</th>\n",
       "      <td>2023-03-14</td>\n",
       "      <td>1</td>\n",
       "    </tr>\n",
       "    <tr>\n",
       "      <th>417</th>\n",
       "      <td>2023-03-15</td>\n",
       "      <td>1</td>\n",
       "    </tr>\n",
       "    <tr>\n",
       "      <th>418</th>\n",
       "      <td>2023-03-16</td>\n",
       "      <td>1</td>\n",
       "    </tr>\n",
       "  </tbody>\n",
       "</table>\n",
       "<p>419 rows × 2 columns</p>\n",
       "</div>"
      ],
      "text/plain": [
       "          date  sleep_hours\n",
       "0   2022-01-01            1\n",
       "1   2022-01-02            1\n",
       "2   2022-01-03            1\n",
       "3   2022-01-04            1\n",
       "4   2022-01-05            1\n",
       "..         ...          ...\n",
       "414 2023-03-12            1\n",
       "415 2023-03-13            1\n",
       "416 2023-03-14            1\n",
       "417 2023-03-15            1\n",
       "418 2023-03-16            1\n",
       "\n",
       "[419 rows x 2 columns]"
      ]
     },
     "execution_count": 8,
     "metadata": {},
     "output_type": "execute_result"
    }
   ],
   "source": [
    "test"
   ]
  },
  {
   "cell_type": "code",
   "execution_count": 9,
   "id": "64519d37-ae53-4dd6-938d-6906cc1d0164",
   "metadata": {},
   "outputs": [
    {
     "data": {
      "text/plain": [
       "<AxesSubplot:xlabel='date'>"
      ]
     },
     "execution_count": 9,
     "metadata": {},
     "output_type": "execute_result"
    },
    {
     "data": {
      "image/png": "[encoded data removed]",
      "text/plain": [
       "<Figure size 864x432 with 1 Axes>"
      ]
     },
     "metadata": {
      "needs_background": "light"
     },
     "output_type": "display_data"
    }
   ],
   "source": [
    "df.plot(figsize=(12,6))"
   ]
  },
  {
   "cell_type": "code",
   "execution_count": 10,
   "id": "902e3ba5-34aa-4d20-bcd5-2e9f40b26dcf",
   "metadata": {},
   "outputs": [
    {
     "data": {
      "text/plain": [
       "<seaborn.axisgrid.FacetGrid at 0x1df88828400>"
      ]
     },
     "execution_count": 10,
     "metadata": {},
     "output_type": "execute_result"
    },
    {
     "data": {
      "text/plain": [
       "<Figure size 864x432 with 0 Axes>"
      ]
     },
     "metadata": {},
     "output_type": "display_data"
    },
    {
     "data": {
      "image/png": "[encoded data removed]",
      "text/plain": [
       "<Figure size 360x360 with 1 Axes>"
      ]
     },
     "metadata": {
      "needs_background": "light"
     },
     "output_type": "display_data"
    }
   ],
   "source": [
    "plt.figure(figsize=(12,6))\n",
    "sns.displot(data=df,x='sleep_hours',kde=True)"
   ]
  },
  {
   "cell_type": "code",
   "execution_count": 11,
   "id": "7173c160-5295-4225-81d2-bb5a1423a58c",
   "metadata": {},
   "outputs": [
    {
     "data": {
      "text/plain": [
       "date\n",
       "2015-02-19         less\n",
       "2015-02-20         high\n",
       "2015-02-21         less\n",
       "2015-02-22         less\n",
       "2015-02-23    very high\n",
       "                ...    \n",
       "2021-12-25    very high\n",
       "2021-12-26    very less\n",
       "2021-12-29         less\n",
       "2021-12-30    very less\n",
       "2021-12-31    very less\n",
       "Name: sleep_hours, Length: 2354, dtype: category\n",
       "Categories (5, object): ['very less' < 'less' < 'ok' < 'high' < 'very high']"
      ]
     },
     "execution_count": 11,
     "metadata": {},
     "output_type": "execute_result"
    }
   ],
   "source": [
    "pd.qcut(df['sleep_hours'],5,labels=['very less','less','ok','high','very high'])"
   ]
  },
  {
   "cell_type": "code",
   "execution_count": 12,
   "id": "557217f9-9718-469e-9996-326bec69eadb",
   "metadata": {},
   "outputs": [
    {
     "data": {
      "text/plain": [
       "high         475\n",
       "less         472\n",
       "very less    471\n",
       "ok           470\n",
       "very high    466\n",
       "Name: sleep_hours, dtype: int64"
      ]
     },
     "execution_count": 12,
     "metadata": {},
     "output_type": "execute_result"
    }
   ],
   "source": [
    "pd.qcut(df['sleep_hours'],5,labels=['very less','less','ok','high','very high']).value_counts()"
   ]
  },
  {
   "cell_type": "code",
   "execution_count": 13,
   "id": "0400e1ac-4763-4807-a0a1-8e5271b1c449",
   "metadata": {},
   "outputs": [
    {
     "data": {
      "text/plain": [
       "(7.058, 7.683]     475\n",
       "(6.113, 6.583]     472\n",
       "(1.266, 6.113]     471\n",
       "(6.583, 7.058]     470\n",
       "(7.683, 17.433]    466\n",
       "Name: sleep_hours, dtype: int64"
      ]
     },
     "execution_count": 13,
     "metadata": {},
     "output_type": "execute_result"
    }
   ],
   "source": [
    "pd.qcut(df['sleep_hours'],5).value_counts()"
   ]
  },
  {
   "cell_type": "code",
   "execution_count": 14,
   "id": "d244b844-57c8-45cd-9009-6179039c4a1c",
   "metadata": {},
   "outputs": [
    {
     "data": {
      "text/plain": [
       "count    2354.000000\n",
       "mean        7.356560\n",
       "std         2.213308\n",
       "min         1.266667\n",
       "25%         6.235417\n",
       "50%         6.816667\n",
       "75%         7.483333\n",
       "max        17.433333\n",
       "Name: sleep_hours, dtype: float64"
      ]
     },
     "execution_count": 14,
     "metadata": {},
     "output_type": "execute_result"
    }
   ],
   "source": [
    "df['sleep_hours'].describe()"
   ]
  },
  {
   "cell_type": "code",
   "execution_count": 15,
   "id": "ebdaed64-20b3-4e87-9922-d96fda2675c3",
   "metadata": {},
   "outputs": [
    {
     "data": {
      "text/html": [
       "<div>\n",
       "<style scoped>\n",
       "    .dataframe tbody tr th:only-of-type {\n",
       "        vertical-align: middle;\n",
       "    }\n",
       "\n",
       "    .dataframe tbody tr th {\n",
       "        vertical-align: top;\n",
       "    }\n",
       "\n",
       "    .dataframe thead th {\n",
       "        text-align: right;\n",
       "    }\n",
       "</style>\n",
       "<table border=\"1\" class=\"dataframe\">\n",
       "  <thead>\n",
       "    <tr style=\"text-align: right;\">\n",
       "      <th></th>\n",
       "      <th>sleep_hours</th>\n",
       "    </tr>\n",
       "    <tr>\n",
       "      <th>date</th>\n",
       "      <th></th>\n",
       "    </tr>\n",
       "  </thead>\n",
       "  <tbody>\n",
       "    <tr>\n",
       "      <th>2017-09-29</th>\n",
       "      <td>14.866667</td>\n",
       "    </tr>\n",
       "    <tr>\n",
       "      <th>2017-10-02</th>\n",
       "      <td>14.566667</td>\n",
       "    </tr>\n",
       "    <tr>\n",
       "      <th>2017-10-09</th>\n",
       "      <td>16.266667</td>\n",
       "    </tr>\n",
       "    <tr>\n",
       "      <th>2017-10-15</th>\n",
       "      <td>17.200000</td>\n",
       "    </tr>\n",
       "    <tr>\n",
       "      <th>2017-10-20</th>\n",
       "      <td>14.500000</td>\n",
       "    </tr>\n",
       "    <tr>\n",
       "      <th>...</th>\n",
       "      <td>...</td>\n",
       "    </tr>\n",
       "    <tr>\n",
       "      <th>2018-05-21</th>\n",
       "      <td>17.433333</td>\n",
       "    </tr>\n",
       "    <tr>\n",
       "      <th>2018-05-23</th>\n",
       "      <td>15.133333</td>\n",
       "    </tr>\n",
       "    <tr>\n",
       "      <th>2018-05-26</th>\n",
       "      <td>15.033333</td>\n",
       "    </tr>\n",
       "    <tr>\n",
       "      <th>2018-06-07</th>\n",
       "      <td>15.500000</td>\n",
       "    </tr>\n",
       "    <tr>\n",
       "      <th>2018-06-10</th>\n",
       "      <td>15.066667</td>\n",
       "    </tr>\n",
       "  </tbody>\n",
       "</table>\n",
       "<p>63 rows × 1 columns</p>\n",
       "</div>"
      ],
      "text/plain": [
       "            sleep_hours\n",
       "date                   \n",
       "2017-09-29    14.866667\n",
       "2017-10-02    14.566667\n",
       "2017-10-09    16.266667\n",
       "2017-10-15    17.200000\n",
       "2017-10-20    14.500000\n",
       "...                 ...\n",
       "2018-05-21    17.433333\n",
       "2018-05-23    15.133333\n",
       "2018-05-26    15.033333\n",
       "2018-06-07    15.500000\n",
       "2018-06-10    15.066667\n",
       "\n",
       "[63 rows x 1 columns]"
      ]
     },
     "execution_count": 15,
     "metadata": {},
     "output_type": "execute_result"
    }
   ],
   "source": [
    "df[df['sleep_hours'] > df['sleep_hours'].mean() + 3*df['sleep_hours'].std()]"
   ]
  },
  {
   "cell_type": "code",
   "execution_count": 16,
   "id": "c7237400-1394-4208-8865-eed37e102de1",
   "metadata": {},
   "outputs": [],
   "source": [
    "df.reset_index(inplace=True)"
   ]
  },
  {
   "cell_type": "code",
   "execution_count": 17,
   "id": "3b8aa876-dc5e-4596-abae-2fc735f80a9a",
   "metadata": {},
   "outputs": [
    {
     "data": {
      "text/html": [
       "<div>\n",
       "<style scoped>\n",
       "    .dataframe tbody tr th:only-of-type {\n",
       "        vertical-align: middle;\n",
       "    }\n",
       "\n",
       "    .dataframe tbody tr th {\n",
       "        vertical-align: top;\n",
       "    }\n",
       "\n",
       "    .dataframe thead th {\n",
       "        text-align: right;\n",
       "    }\n",
       "</style>\n",
       "<table border=\"1\" class=\"dataframe\">\n",
       "  <thead>\n",
       "    <tr style=\"text-align: right;\">\n",
       "      <th></th>\n",
       "      <th>date</th>\n",
       "      <th>sleep_hours</th>\n",
       "    </tr>\n",
       "  </thead>\n",
       "  <tbody>\n",
       "    <tr>\n",
       "      <th>0</th>\n",
       "      <td>2015-02-19</td>\n",
       "      <td>6.400000</td>\n",
       "    </tr>\n",
       "    <tr>\n",
       "      <th>1</th>\n",
       "      <td>2015-02-20</td>\n",
       "      <td>7.583333</td>\n",
       "    </tr>\n",
       "    <tr>\n",
       "      <th>2</th>\n",
       "      <td>2015-02-21</td>\n",
       "      <td>6.350000</td>\n",
       "    </tr>\n",
       "    <tr>\n",
       "      <th>3</th>\n",
       "      <td>2015-02-22</td>\n",
       "      <td>6.500000</td>\n",
       "    </tr>\n",
       "    <tr>\n",
       "      <th>4</th>\n",
       "      <td>2015-02-23</td>\n",
       "      <td>8.916667</td>\n",
       "    </tr>\n",
       "    <tr>\n",
       "      <th>...</th>\n",
       "      <td>...</td>\n",
       "      <td>...</td>\n",
       "    </tr>\n",
       "    <tr>\n",
       "      <th>2349</th>\n",
       "      <td>2021-12-25</td>\n",
       "      <td>7.933333</td>\n",
       "    </tr>\n",
       "    <tr>\n",
       "      <th>2350</th>\n",
       "      <td>2021-12-26</td>\n",
       "      <td>3.850000</td>\n",
       "    </tr>\n",
       "    <tr>\n",
       "      <th>2351</th>\n",
       "      <td>2021-12-29</td>\n",
       "      <td>6.175000</td>\n",
       "    </tr>\n",
       "    <tr>\n",
       "      <th>2352</th>\n",
       "      <td>2021-12-30</td>\n",
       "      <td>5.158333</td>\n",
       "    </tr>\n",
       "    <tr>\n",
       "      <th>2353</th>\n",
       "      <td>2021-12-31</td>\n",
       "      <td>5.908333</td>\n",
       "    </tr>\n",
       "  </tbody>\n",
       "</table>\n",
       "<p>2354 rows × 2 columns</p>\n",
       "</div>"
      ],
      "text/plain": [
       "           date  sleep_hours\n",
       "0    2015-02-19     6.400000\n",
       "1    2015-02-20     7.583333\n",
       "2    2015-02-21     6.350000\n",
       "3    2015-02-22     6.500000\n",
       "4    2015-02-23     8.916667\n",
       "...         ...          ...\n",
       "2349 2021-12-25     7.933333\n",
       "2350 2021-12-26     3.850000\n",
       "2351 2021-12-29     6.175000\n",
       "2352 2021-12-30     5.158333\n",
       "2353 2021-12-31     5.908333\n",
       "\n",
       "[2354 rows x 2 columns]"
      ]
     },
     "execution_count": 17,
     "metadata": {},
     "output_type": "execute_result"
    }
   ],
   "source": [
    "df"
   ]
  },
  {
   "cell_type": "code",
   "execution_count": 18,
   "id": "863c4a03-156a-4544-81bb-cc27fb2f9ef0",
   "metadata": {},
   "outputs": [
    {
     "name": "stdout",
     "output_type": "stream",
     "text": [
      "<class 'pandas.core.frame.DataFrame'>\n",
      "RangeIndex: 2354 entries, 0 to 2353\n",
      "Data columns (total 2 columns):\n",
      " #   Column       Non-Null Count  Dtype         \n",
      "---  ------       --------------  -----         \n",
      " 0   date         2354 non-null   datetime64[ns]\n",
      " 1   sleep_hours  2354 non-null   float64       \n",
      "dtypes: datetime64[ns](1), float64(1)\n",
      "memory usage: 36.9 KB\n"
     ]
    }
   ],
   "source": [
    "df.info()"
   ]
  },
  {
   "cell_type": "code",
   "execution_count": 19,
   "id": "09009b41-6dc8-4834-8e67-3fbacfacd5b0",
   "metadata": {},
   "outputs": [
    {
     "data": {
      "text/plain": [
       "date           0\n",
       "sleep_hours    0\n",
       "dtype: int64"
      ]
     },
     "execution_count": 19,
     "metadata": {},
     "output_type": "execute_result"
    }
   ],
   "source": [
    "df.isna().sum()"
   ]
  },
  {
   "cell_type": "code",
   "execution_count": 20,
   "id": "ee35f8f5-62e8-4d32-90be-3d8fab648837",
   "metadata": {},
   "outputs": [],
   "source": [
    "df['year'] = df['date'].apply(lambda x: x.year)\n",
    "df['month'] = df['date'].apply(lambda x: x.month)\n",
    "df['day'] = df['date'].apply(lambda x: x.day)\n",
    "df['dow'] = df['date'].dt.day_name()"
   ]
  },
  {
   "cell_type": "code",
   "execution_count": null,
   "id": "4bb6ebbf-e926-4dca-83d6-5cff6df85619",
   "metadata": {},
   "outputs": [],
   "source": []
  },
  {
   "cell_type": "code",
   "execution_count": 21,
   "id": "2426e755-9264-4fa1-b37b-7aabd9d1cfea",
   "metadata": {},
   "outputs": [
    {
     "data": {
      "text/html": [
       "<div>\n",
       "<style scoped>\n",
       "    .dataframe tbody tr th:only-of-type {\n",
       "        vertical-align: middle;\n",
       "    }\n",
       "\n",
       "    .dataframe tbody tr th {\n",
       "        vertical-align: top;\n",
       "    }\n",
       "\n",
       "    .dataframe thead th {\n",
       "        text-align: right;\n",
       "    }\n",
       "</style>\n",
       "<table border=\"1\" class=\"dataframe\">\n",
       "  <thead>\n",
       "    <tr style=\"text-align: right;\">\n",
       "      <th></th>\n",
       "      <th>date</th>\n",
       "      <th>sleep_hours</th>\n",
       "      <th>year</th>\n",
       "      <th>month</th>\n",
       "      <th>day</th>\n",
       "      <th>dow</th>\n",
       "    </tr>\n",
       "  </thead>\n",
       "  <tbody>\n",
       "    <tr>\n",
       "      <th>0</th>\n",
       "      <td>2015-02-19</td>\n",
       "      <td>6.400000</td>\n",
       "      <td>2015</td>\n",
       "      <td>2</td>\n",
       "      <td>19</td>\n",
       "      <td>Thursday</td>\n",
       "    </tr>\n",
       "    <tr>\n",
       "      <th>1</th>\n",
       "      <td>2015-02-20</td>\n",
       "      <td>7.583333</td>\n",
       "      <td>2015</td>\n",
       "      <td>2</td>\n",
       "      <td>20</td>\n",
       "      <td>Friday</td>\n",
       "    </tr>\n",
       "    <tr>\n",
       "      <th>2</th>\n",
       "      <td>2015-02-21</td>\n",
       "      <td>6.350000</td>\n",
       "      <td>2015</td>\n",
       "      <td>2</td>\n",
       "      <td>21</td>\n",
       "      <td>Saturday</td>\n",
       "    </tr>\n",
       "    <tr>\n",
       "      <th>3</th>\n",
       "      <td>2015-02-22</td>\n",
       "      <td>6.500000</td>\n",
       "      <td>2015</td>\n",
       "      <td>2</td>\n",
       "      <td>22</td>\n",
       "      <td>Sunday</td>\n",
       "    </tr>\n",
       "    <tr>\n",
       "      <th>4</th>\n",
       "      <td>2015-02-23</td>\n",
       "      <td>8.916667</td>\n",
       "      <td>2015</td>\n",
       "      <td>2</td>\n",
       "      <td>23</td>\n",
       "      <td>Monday</td>\n",
       "    </tr>\n",
       "    <tr>\n",
       "      <th>...</th>\n",
       "      <td>...</td>\n",
       "      <td>...</td>\n",
       "      <td>...</td>\n",
       "      <td>...</td>\n",
       "      <td>...</td>\n",
       "      <td>...</td>\n",
       "    </tr>\n",
       "    <tr>\n",
       "      <th>2349</th>\n",
       "      <td>2021-12-25</td>\n",
       "      <td>7.933333</td>\n",
       "      <td>2021</td>\n",
       "      <td>12</td>\n",
       "      <td>25</td>\n",
       "      <td>Saturday</td>\n",
       "    </tr>\n",
       "    <tr>\n",
       "      <th>2350</th>\n",
       "      <td>2021-12-26</td>\n",
       "      <td>3.850000</td>\n",
       "      <td>2021</td>\n",
       "      <td>12</td>\n",
       "      <td>26</td>\n",
       "      <td>Sunday</td>\n",
       "    </tr>\n",
       "    <tr>\n",
       "      <th>2351</th>\n",
       "      <td>2021-12-29</td>\n",
       "      <td>6.175000</td>\n",
       "      <td>2021</td>\n",
       "      <td>12</td>\n",
       "      <td>29</td>\n",
       "      <td>Wednesday</td>\n",
       "    </tr>\n",
       "    <tr>\n",
       "      <th>2352</th>\n",
       "      <td>2021-12-30</td>\n",
       "      <td>5.158333</td>\n",
       "      <td>2021</td>\n",
       "      <td>12</td>\n",
       "      <td>30</td>\n",
       "      <td>Thursday</td>\n",
       "    </tr>\n",
       "    <tr>\n",
       "      <th>2353</th>\n",
       "      <td>2021-12-31</td>\n",
       "      <td>5.908333</td>\n",
       "      <td>2021</td>\n",
       "      <td>12</td>\n",
       "      <td>31</td>\n",
       "      <td>Friday</td>\n",
       "    </tr>\n",
       "  </tbody>\n",
       "</table>\n",
       "<p>2354 rows × 6 columns</p>\n",
       "</div>"
      ],
      "text/plain": [
       "           date  sleep_hours  year  month  day        dow\n",
       "0    2015-02-19     6.400000  2015      2   19   Thursday\n",
       "1    2015-02-20     7.583333  2015      2   20     Friday\n",
       "2    2015-02-21     6.350000  2015      2   21   Saturday\n",
       "3    2015-02-22     6.500000  2015      2   22     Sunday\n",
       "4    2015-02-23     8.916667  2015      2   23     Monday\n",
       "...         ...          ...   ...    ...  ...        ...\n",
       "2349 2021-12-25     7.933333  2021     12   25   Saturday\n",
       "2350 2021-12-26     3.850000  2021     12   26     Sunday\n",
       "2351 2021-12-29     6.175000  2021     12   29  Wednesday\n",
       "2352 2021-12-30     5.158333  2021     12   30   Thursday\n",
       "2353 2021-12-31     5.908333  2021     12   31     Friday\n",
       "\n",
       "[2354 rows x 6 columns]"
      ]
     },
     "execution_count": 21,
     "metadata": {},
     "output_type": "execute_result"
    }
   ],
   "source": [
    "df"
   ]
  },
  {
   "cell_type": "code",
   "execution_count": 22,
   "id": "bc670da7-5dda-41ac-9896-3b8c3233fd3a",
   "metadata": {},
   "outputs": [
    {
     "name": "stderr",
     "output_type": "stream",
     "text": [
      "C:\\Users\\HP\\AppData\\Local\\Temp\\ipykernel_16868\\1097586490.py:1: FutureWarning: The default value of numeric_only in DataFrameGroupBy.median is deprecated. In a future version, numeric_only will default to False. Either specify numeric_only or select only columns which should be valid for the function.\n",
      "  df.groupby('dow').median()['sleep_hours'].sort_values(ascending=False)\n"
     ]
    },
    {
     "data": {
      "text/plain": [
       "dow\n",
       "Saturday     7.137500\n",
       "Sunday       6.966667\n",
       "Friday       6.933333\n",
       "Thursday     6.800000\n",
       "Wednesday    6.683333\n",
       "Tuesday      6.625000\n",
       "Monday       6.608333\n",
       "Name: sleep_hours, dtype: float64"
      ]
     },
     "execution_count": 22,
     "metadata": {},
     "output_type": "execute_result"
    }
   ],
   "source": [
    "df.groupby('dow').median()['sleep_hours'].sort_values(ascending=False)"
   ]
  },
  {
   "cell_type": "code",
   "execution_count": 23,
   "id": "04f47ebc-8f35-4d65-a0c5-a659f68618f3",
   "metadata": {},
   "outputs": [
    {
     "name": "stdout",
     "output_type": "stream",
     "text": [
      "<class 'pandas.core.frame.DataFrame'>\n",
      "RangeIndex: 2354 entries, 0 to 2353\n",
      "Data columns (total 6 columns):\n",
      " #   Column       Non-Null Count  Dtype         \n",
      "---  ------       --------------  -----         \n",
      " 0   date         2354 non-null   datetime64[ns]\n",
      " 1   sleep_hours  2354 non-null   float64       \n",
      " 2   year         2354 non-null   int64         \n",
      " 3   month        2354 non-null   int64         \n",
      " 4   day          2354 non-null   int64         \n",
      " 5   dow          2354 non-null   object        \n",
      "dtypes: datetime64[ns](1), float64(1), int64(3), object(1)\n",
      "memory usage: 110.5+ KB\n"
     ]
    }
   ],
   "source": [
    "df.info()"
   ]
  },
  {
   "cell_type": "code",
   "execution_count": null,
   "id": "69c05bb1-e51e-4553-9bdc-3d25647a0bf7",
   "metadata": {},
   "outputs": [],
   "source": []
  },
  {
   "cell_type": "code",
   "execution_count": null,
   "id": "7dde5619-105f-4b27-8184-ab0a4d2e9b16",
   "metadata": {},
   "outputs": [],
   "source": []
  },
  {
   "cell_type": "code",
   "execution_count": 24,
   "id": "74d582e0-2c73-408d-a2ac-ba8f5196d393",
   "metadata": {},
   "outputs": [],
   "source": [
    "df2 = df.copy()"
   ]
  },
  {
   "cell_type": "code",
   "execution_count": 25,
   "id": "f2fce7c6-0fbc-48fc-9aaf-82d83c92f5cf",
   "metadata": {},
   "outputs": [],
   "source": [
    "df2  = pd.get_dummies(df2,columns=['dow'],drop_first=False)"
   ]
  },
  {
   "cell_type": "code",
   "execution_count": 26,
   "id": "6a782094-d8c7-4816-b9c9-77bf6b899b86",
   "metadata": {},
   "outputs": [
    {
     "data": {
      "text/html": [
       "<div>\n",
       "<style scoped>\n",
       "    .dataframe tbody tr th:only-of-type {\n",
       "        vertical-align: middle;\n",
       "    }\n",
       "\n",
       "    .dataframe tbody tr th {\n",
       "        vertical-align: top;\n",
       "    }\n",
       "\n",
       "    .dataframe thead th {\n",
       "        text-align: right;\n",
       "    }\n",
       "</style>\n",
       "<table border=\"1\" class=\"dataframe\">\n",
       "  <thead>\n",
       "    <tr style=\"text-align: right;\">\n",
       "      <th></th>\n",
       "      <th>date</th>\n",
       "      <th>sleep_hours</th>\n",
       "      <th>year</th>\n",
       "      <th>month</th>\n",
       "      <th>day</th>\n",
       "      <th>dow_Friday</th>\n",
       "      <th>dow_Monday</th>\n",
       "      <th>dow_Saturday</th>\n",
       "      <th>dow_Sunday</th>\n",
       "      <th>dow_Thursday</th>\n",
       "      <th>dow_Tuesday</th>\n",
       "      <th>dow_Wednesday</th>\n",
       "    </tr>\n",
       "  </thead>\n",
       "  <tbody>\n",
       "    <tr>\n",
       "      <th>0</th>\n",
       "      <td>2015-02-19</td>\n",
       "      <td>6.400000</td>\n",
       "      <td>2015</td>\n",
       "      <td>2</td>\n",
       "      <td>19</td>\n",
       "      <td>0</td>\n",
       "      <td>0</td>\n",
       "      <td>0</td>\n",
       "      <td>0</td>\n",
       "      <td>1</td>\n",
       "      <td>0</td>\n",
       "      <td>0</td>\n",
       "    </tr>\n",
       "    <tr>\n",
       "      <th>1</th>\n",
       "      <td>2015-02-20</td>\n",
       "      <td>7.583333</td>\n",
       "      <td>2015</td>\n",
       "      <td>2</td>\n",
       "      <td>20</td>\n",
       "      <td>1</td>\n",
       "      <td>0</td>\n",
       "      <td>0</td>\n",
       "      <td>0</td>\n",
       "      <td>0</td>\n",
       "      <td>0</td>\n",
       "      <td>0</td>\n",
       "    </tr>\n",
       "    <tr>\n",
       "      <th>2</th>\n",
       "      <td>2015-02-21</td>\n",
       "      <td>6.350000</td>\n",
       "      <td>2015</td>\n",
       "      <td>2</td>\n",
       "      <td>21</td>\n",
       "      <td>0</td>\n",
       "      <td>0</td>\n",
       "      <td>1</td>\n",
       "      <td>0</td>\n",
       "      <td>0</td>\n",
       "      <td>0</td>\n",
       "      <td>0</td>\n",
       "    </tr>\n",
       "    <tr>\n",
       "      <th>3</th>\n",
       "      <td>2015-02-22</td>\n",
       "      <td>6.500000</td>\n",
       "      <td>2015</td>\n",
       "      <td>2</td>\n",
       "      <td>22</td>\n",
       "      <td>0</td>\n",
       "      <td>0</td>\n",
       "      <td>0</td>\n",
       "      <td>1</td>\n",
       "      <td>0</td>\n",
       "      <td>0</td>\n",
       "      <td>0</td>\n",
       "    </tr>\n",
       "    <tr>\n",
       "      <th>4</th>\n",
       "      <td>2015-02-23</td>\n",
       "      <td>8.916667</td>\n",
       "      <td>2015</td>\n",
       "      <td>2</td>\n",
       "      <td>23</td>\n",
       "      <td>0</td>\n",
       "      <td>1</td>\n",
       "      <td>0</td>\n",
       "      <td>0</td>\n",
       "      <td>0</td>\n",
       "      <td>0</td>\n",
       "      <td>0</td>\n",
       "    </tr>\n",
       "    <tr>\n",
       "      <th>...</th>\n",
       "      <td>...</td>\n",
       "      <td>...</td>\n",
       "      <td>...</td>\n",
       "      <td>...</td>\n",
       "      <td>...</td>\n",
       "      <td>...</td>\n",
       "      <td>...</td>\n",
       "      <td>...</td>\n",
       "      <td>...</td>\n",
       "      <td>...</td>\n",
       "      <td>...</td>\n",
       "      <td>...</td>\n",
       "    </tr>\n",
       "    <tr>\n",
       "      <th>2349</th>\n",
       "      <td>2021-12-25</td>\n",
       "      <td>7.933333</td>\n",
       "      <td>2021</td>\n",
       "      <td>12</td>\n",
       "      <td>25</td>\n",
       "      <td>0</td>\n",
       "      <td>0</td>\n",
       "      <td>1</td>\n",
       "      <td>0</td>\n",
       "      <td>0</td>\n",
       "      <td>0</td>\n",
       "      <td>0</td>\n",
       "    </tr>\n",
       "    <tr>\n",
       "      <th>2350</th>\n",
       "      <td>2021-12-26</td>\n",
       "      <td>3.850000</td>\n",
       "      <td>2021</td>\n",
       "      <td>12</td>\n",
       "      <td>26</td>\n",
       "      <td>0</td>\n",
       "      <td>0</td>\n",
       "      <td>0</td>\n",
       "      <td>1</td>\n",
       "      <td>0</td>\n",
       "      <td>0</td>\n",
       "      <td>0</td>\n",
       "    </tr>\n",
       "    <tr>\n",
       "      <th>2351</th>\n",
       "      <td>2021-12-29</td>\n",
       "      <td>6.175000</td>\n",
       "      <td>2021</td>\n",
       "      <td>12</td>\n",
       "      <td>29</td>\n",
       "      <td>0</td>\n",
       "      <td>0</td>\n",
       "      <td>0</td>\n",
       "      <td>0</td>\n",
       "      <td>0</td>\n",
       "      <td>0</td>\n",
       "      <td>1</td>\n",
       "    </tr>\n",
       "    <tr>\n",
       "      <th>2352</th>\n",
       "      <td>2021-12-30</td>\n",
       "      <td>5.158333</td>\n",
       "      <td>2021</td>\n",
       "      <td>12</td>\n",
       "      <td>30</td>\n",
       "      <td>0</td>\n",
       "      <td>0</td>\n",
       "      <td>0</td>\n",
       "      <td>0</td>\n",
       "      <td>1</td>\n",
       "      <td>0</td>\n",
       "      <td>0</td>\n",
       "    </tr>\n",
       "    <tr>\n",
       "      <th>2353</th>\n",
       "      <td>2021-12-31</td>\n",
       "      <td>5.908333</td>\n",
       "      <td>2021</td>\n",
       "      <td>12</td>\n",
       "      <td>31</td>\n",
       "      <td>1</td>\n",
       "      <td>0</td>\n",
       "      <td>0</td>\n",
       "      <td>0</td>\n",
       "      <td>0</td>\n",
       "      <td>0</td>\n",
       "      <td>0</td>\n",
       "    </tr>\n",
       "  </tbody>\n",
       "</table>\n",
       "<p>2354 rows × 12 columns</p>\n",
       "</div>"
      ],
      "text/plain": [
       "           date  sleep_hours  year  month  day  dow_Friday  dow_Monday  \\\n",
       "0    2015-02-19     6.400000  2015      2   19           0           0   \n",
       "1    2015-02-20     7.583333  2015      2   20           1           0   \n",
       "2    2015-02-21     6.350000  2015      2   21           0           0   \n",
       "3    2015-02-22     6.500000  2015      2   22           0           0   \n",
       "4    2015-02-23     8.916667  2015      2   23           0           1   \n",
       "...         ...          ...   ...    ...  ...         ...         ...   \n",
       "2349 2021-12-25     7.933333  2021     12   25           0           0   \n",
       "2350 2021-12-26     3.850000  2021     12   26           0           0   \n",
       "2351 2021-12-29     6.175000  2021     12   29           0           0   \n",
       "2352 2021-12-30     5.158333  2021     12   30           0           0   \n",
       "2353 2021-12-31     5.908333  2021     12   31           1           0   \n",
       "\n",
       "      dow_Saturday  dow_Sunday  dow_Thursday  dow_Tuesday  dow_Wednesday  \n",
       "0                0           0             1            0              0  \n",
       "1                0           0             0            0              0  \n",
       "2                1           0             0            0              0  \n",
       "3                0           1             0            0              0  \n",
       "4                0           0             0            0              0  \n",
       "...            ...         ...           ...          ...            ...  \n",
       "2349             1           0             0            0              0  \n",
       "2350             0           1             0            0              0  \n",
       "2351             0           0             0            0              1  \n",
       "2352             0           0             1            0              0  \n",
       "2353             0           0             0            0              0  \n",
       "\n",
       "[2354 rows x 12 columns]"
      ]
     },
     "execution_count": 26,
     "metadata": {},
     "output_type": "execute_result"
    }
   ],
   "source": [
    "df2"
   ]
  },
  {
   "cell_type": "markdown",
   "id": "92801569-a37b-4ece-9498-6c5a5fd85f1b",
   "metadata": {},
   "source": [
    "# PREPROCESSING TRAIN AND TEST DATA"
   ]
  },
  {
   "cell_type": "markdown",
   "id": "d65c1685-0894-435b-9e35-39052af4fd96",
   "metadata": {},
   "source": [
    "## First approach: Keep year and month as numerical\n",
    "## Second approach: Treat year and month as categorical"
   ]
  },
  {
   "cell_type": "markdown",
   "id": "c90c23b5-fa3f-4e35-baab-3e55e5eaa38b",
   "metadata": {},
   "source": [
    "### First Apprach"
   ]
  },
  {
   "cell_type": "code",
   "execution_count": 27,
   "id": "0ce158b1-3d44-4636-aed9-553d251b5144",
   "metadata": {},
   "outputs": [],
   "source": [
    "df3 = df2.drop('date',axis=1).copy()"
   ]
  },
  {
   "cell_type": "code",
   "execution_count": 28,
   "id": "94df78ae-47f9-4d19-930d-0bb812b00003",
   "metadata": {},
   "outputs": [
    {
     "data": {
      "text/html": [
       "<div>\n",
       "<style scoped>\n",
       "    .dataframe tbody tr th:only-of-type {\n",
       "        vertical-align: middle;\n",
       "    }\n",
       "\n",
       "    .dataframe tbody tr th {\n",
       "        vertical-align: top;\n",
       "    }\n",
       "\n",
       "    .dataframe thead th {\n",
       "        text-align: right;\n",
       "    }\n",
       "</style>\n",
       "<table border=\"1\" class=\"dataframe\">\n",
       "  <thead>\n",
       "    <tr style=\"text-align: right;\">\n",
       "      <th></th>\n",
       "      <th>sleep_hours</th>\n",
       "      <th>year</th>\n",
       "      <th>month</th>\n",
       "      <th>day</th>\n",
       "      <th>dow_Friday</th>\n",
       "      <th>dow_Monday</th>\n",
       "      <th>dow_Saturday</th>\n",
       "      <th>dow_Sunday</th>\n",
       "      <th>dow_Thursday</th>\n",
       "      <th>dow_Tuesday</th>\n",
       "      <th>dow_Wednesday</th>\n",
       "    </tr>\n",
       "  </thead>\n",
       "  <tbody>\n",
       "    <tr>\n",
       "      <th>0</th>\n",
       "      <td>6.400000</td>\n",
       "      <td>2015</td>\n",
       "      <td>2</td>\n",
       "      <td>19</td>\n",
       "      <td>0</td>\n",
       "      <td>0</td>\n",
       "      <td>0</td>\n",
       "      <td>0</td>\n",
       "      <td>1</td>\n",
       "      <td>0</td>\n",
       "      <td>0</td>\n",
       "    </tr>\n",
       "    <tr>\n",
       "      <th>1</th>\n",
       "      <td>7.583333</td>\n",
       "      <td>2015</td>\n",
       "      <td>2</td>\n",
       "      <td>20</td>\n",
       "      <td>1</td>\n",
       "      <td>0</td>\n",
       "      <td>0</td>\n",
       "      <td>0</td>\n",
       "      <td>0</td>\n",
       "      <td>0</td>\n",
       "      <td>0</td>\n",
       "    </tr>\n",
       "    <tr>\n",
       "      <th>2</th>\n",
       "      <td>6.350000</td>\n",
       "      <td>2015</td>\n",
       "      <td>2</td>\n",
       "      <td>21</td>\n",
       "      <td>0</td>\n",
       "      <td>0</td>\n",
       "      <td>1</td>\n",
       "      <td>0</td>\n",
       "      <td>0</td>\n",
       "      <td>0</td>\n",
       "      <td>0</td>\n",
       "    </tr>\n",
       "    <tr>\n",
       "      <th>3</th>\n",
       "      <td>6.500000</td>\n",
       "      <td>2015</td>\n",
       "      <td>2</td>\n",
       "      <td>22</td>\n",
       "      <td>0</td>\n",
       "      <td>0</td>\n",
       "      <td>0</td>\n",
       "      <td>1</td>\n",
       "      <td>0</td>\n",
       "      <td>0</td>\n",
       "      <td>0</td>\n",
       "    </tr>\n",
       "    <tr>\n",
       "      <th>4</th>\n",
       "      <td>8.916667</td>\n",
       "      <td>2015</td>\n",
       "      <td>2</td>\n",
       "      <td>23</td>\n",
       "      <td>0</td>\n",
       "      <td>1</td>\n",
       "      <td>0</td>\n",
       "      <td>0</td>\n",
       "      <td>0</td>\n",
       "      <td>0</td>\n",
       "      <td>0</td>\n",
       "    </tr>\n",
       "    <tr>\n",
       "      <th>...</th>\n",
       "      <td>...</td>\n",
       "      <td>...</td>\n",
       "      <td>...</td>\n",
       "      <td>...</td>\n",
       "      <td>...</td>\n",
       "      <td>...</td>\n",
       "      <td>...</td>\n",
       "      <td>...</td>\n",
       "      <td>...</td>\n",
       "      <td>...</td>\n",
       "      <td>...</td>\n",
       "    </tr>\n",
       "    <tr>\n",
       "      <th>2349</th>\n",
       "      <td>7.933333</td>\n",
       "      <td>2021</td>\n",
       "      <td>12</td>\n",
       "      <td>25</td>\n",
       "      <td>0</td>\n",
       "      <td>0</td>\n",
       "      <td>1</td>\n",
       "      <td>0</td>\n",
       "      <td>0</td>\n",
       "      <td>0</td>\n",
       "      <td>0</td>\n",
       "    </tr>\n",
       "    <tr>\n",
       "      <th>2350</th>\n",
       "      <td>3.850000</td>\n",
       "      <td>2021</td>\n",
       "      <td>12</td>\n",
       "      <td>26</td>\n",
       "      <td>0</td>\n",
       "      <td>0</td>\n",
       "      <td>0</td>\n",
       "      <td>1</td>\n",
       "      <td>0</td>\n",
       "      <td>0</td>\n",
       "      <td>0</td>\n",
       "    </tr>\n",
       "    <tr>\n",
       "      <th>2351</th>\n",
       "      <td>6.175000</td>\n",
       "      <td>2021</td>\n",
       "      <td>12</td>\n",
       "      <td>29</td>\n",
       "      <td>0</td>\n",
       "      <td>0</td>\n",
       "      <td>0</td>\n",
       "      <td>0</td>\n",
       "      <td>0</td>\n",
       "      <td>0</td>\n",
       "      <td>1</td>\n",
       "    </tr>\n",
       "    <tr>\n",
       "      <th>2352</th>\n",
       "      <td>5.158333</td>\n",
       "      <td>2021</td>\n",
       "      <td>12</td>\n",
       "      <td>30</td>\n",
       "      <td>0</td>\n",
       "      <td>0</td>\n",
       "      <td>0</td>\n",
       "      <td>0</td>\n",
       "      <td>1</td>\n",
       "      <td>0</td>\n",
       "      <td>0</td>\n",
       "    </tr>\n",
       "    <tr>\n",
       "      <th>2353</th>\n",
       "      <td>5.908333</td>\n",
       "      <td>2021</td>\n",
       "      <td>12</td>\n",
       "      <td>31</td>\n",
       "      <td>1</td>\n",
       "      <td>0</td>\n",
       "      <td>0</td>\n",
       "      <td>0</td>\n",
       "      <td>0</td>\n",
       "      <td>0</td>\n",
       "      <td>0</td>\n",
       "    </tr>\n",
       "  </tbody>\n",
       "</table>\n",
       "<p>2354 rows × 11 columns</p>\n",
       "</div>"
      ],
      "text/plain": [
       "      sleep_hours  year  month  day  dow_Friday  dow_Monday  dow_Saturday  \\\n",
       "0        6.400000  2015      2   19           0           0             0   \n",
       "1        7.583333  2015      2   20           1           0             0   \n",
       "2        6.350000  2015      2   21           0           0             1   \n",
       "3        6.500000  2015      2   22           0           0             0   \n",
       "4        8.916667  2015      2   23           0           1             0   \n",
       "...           ...   ...    ...  ...         ...         ...           ...   \n",
       "2349     7.933333  2021     12   25           0           0             1   \n",
       "2350     3.850000  2021     12   26           0           0             0   \n",
       "2351     6.175000  2021     12   29           0           0             0   \n",
       "2352     5.158333  2021     12   30           0           0             0   \n",
       "2353     5.908333  2021     12   31           1           0             0   \n",
       "\n",
       "      dow_Sunday  dow_Thursday  dow_Tuesday  dow_Wednesday  \n",
       "0              0             1            0              0  \n",
       "1              0             0            0              0  \n",
       "2              0             0            0              0  \n",
       "3              1             0            0              0  \n",
       "4              0             0            0              0  \n",
       "...          ...           ...          ...            ...  \n",
       "2349           0             0            0              0  \n",
       "2350           1             0            0              0  \n",
       "2351           0             0            0              1  \n",
       "2352           0             1            0              0  \n",
       "2353           0             0            0              0  \n",
       "\n",
       "[2354 rows x 11 columns]"
      ]
     },
     "execution_count": 28,
     "metadata": {},
     "output_type": "execute_result"
    }
   ],
   "source": [
    "df3"
   ]
  },
  {
   "cell_type": "code",
   "execution_count": 29,
   "id": "e0a015b8-5724-40fb-9b29-5a14192013a1",
   "metadata": {},
   "outputs": [],
   "source": [
    "X = df3.drop(['sleep_hours'],axis=1)\n",
    "y = df3['sleep_hours']"
   ]
  },
  {
   "cell_type": "code",
   "execution_count": 30,
   "id": "2a793782-4632-44d9-848b-b2590d59581d",
   "metadata": {},
   "outputs": [],
   "source": [
    "from sklearn.model_selection import train_test_split, RepeatedStratifiedKFold\n",
    "from sklearn.preprocessing import StandardScaler, MinMaxScaler\n",
    "from sklearn.metrics import r2_score, mean_squared_error, mean_absolute_percentage_error"
   ]
  },
  {
   "cell_type": "code",
   "execution_count": 31,
   "id": "b6b9e50e-04fd-4e20-9d3f-a24c6b9b1774",
   "metadata": {},
   "outputs": [],
   "source": [
    "X_train, X_test, y_train, y_test = train_test_split(X, y, test_size=0.33, random_state=42)"
   ]
  },
  {
   "cell_type": "code",
   "execution_count": 32,
   "id": "29adc736-fccd-4e99-8f3a-d349103657a4",
   "metadata": {},
   "outputs": [
    {
     "data": {
      "text/plain": [
       "(1577, 10)"
      ]
     },
     "execution_count": 32,
     "metadata": {},
     "output_type": "execute_result"
    }
   ],
   "source": [
    "X_train.shape"
   ]
  },
  {
   "cell_type": "code",
   "execution_count": null,
   "id": "c8a88292-07ea-4f72-94fd-4bcb6fcaaefd",
   "metadata": {},
   "outputs": [],
   "source": []
  },
  {
   "cell_type": "markdown",
   "id": "9e270b64-6e9a-41b0-bf7b-3da4a570a011",
   "metadata": {},
   "source": [
    "## Preprocessing test data"
   ]
  },
  {
   "cell_type": "code",
   "execution_count": 33,
   "id": "8116dfb6-4756-4610-ace9-f20141f2b48f",
   "metadata": {},
   "outputs": [],
   "source": [
    "test.drop('sleep_hours',axis=1,inplace=True)"
   ]
  },
  {
   "cell_type": "code",
   "execution_count": 34,
   "id": "ef360a6a-e485-46e6-bac0-45aff2bde005",
   "metadata": {},
   "outputs": [],
   "source": [
    "test['year'] = test['date'].apply(lambda x: x.year)\n",
    "test['month'] = test['date'].apply(lambda x: x.month)\n",
    "test['day'] = test['date'].apply(lambda x: x.day)\n",
    "test['dow'] = test['date'].dt.day_name()"
   ]
  },
  {
   "cell_type": "code",
   "execution_count": 35,
   "id": "49f68f6a-b929-4566-8537-ae493293ba04",
   "metadata": {},
   "outputs": [
    {
     "data": {
      "text/html": [
       "<div>\n",
       "<style scoped>\n",
       "    .dataframe tbody tr th:only-of-type {\n",
       "        vertical-align: middle;\n",
       "    }\n",
       "\n",
       "    .dataframe tbody tr th {\n",
       "        vertical-align: top;\n",
       "    }\n",
       "\n",
       "    .dataframe thead th {\n",
       "        text-align: right;\n",
       "    }\n",
       "</style>\n",
       "<table border=\"1\" class=\"dataframe\">\n",
       "  <thead>\n",
       "    <tr style=\"text-align: right;\">\n",
       "      <th></th>\n",
       "      <th>date</th>\n",
       "      <th>year</th>\n",
       "      <th>month</th>\n",
       "      <th>day</th>\n",
       "      <th>dow</th>\n",
       "    </tr>\n",
       "  </thead>\n",
       "  <tbody>\n",
       "    <tr>\n",
       "      <th>0</th>\n",
       "      <td>2022-01-01</td>\n",
       "      <td>2022</td>\n",
       "      <td>1</td>\n",
       "      <td>1</td>\n",
       "      <td>Saturday</td>\n",
       "    </tr>\n",
       "    <tr>\n",
       "      <th>1</th>\n",
       "      <td>2022-01-02</td>\n",
       "      <td>2022</td>\n",
       "      <td>1</td>\n",
       "      <td>2</td>\n",
       "      <td>Sunday</td>\n",
       "    </tr>\n",
       "    <tr>\n",
       "      <th>2</th>\n",
       "      <td>2022-01-03</td>\n",
       "      <td>2022</td>\n",
       "      <td>1</td>\n",
       "      <td>3</td>\n",
       "      <td>Monday</td>\n",
       "    </tr>\n",
       "    <tr>\n",
       "      <th>3</th>\n",
       "      <td>2022-01-04</td>\n",
       "      <td>2022</td>\n",
       "      <td>1</td>\n",
       "      <td>4</td>\n",
       "      <td>Tuesday</td>\n",
       "    </tr>\n",
       "    <tr>\n",
       "      <th>4</th>\n",
       "      <td>2022-01-05</td>\n",
       "      <td>2022</td>\n",
       "      <td>1</td>\n",
       "      <td>5</td>\n",
       "      <td>Wednesday</td>\n",
       "    </tr>\n",
       "    <tr>\n",
       "      <th>...</th>\n",
       "      <td>...</td>\n",
       "      <td>...</td>\n",
       "      <td>...</td>\n",
       "      <td>...</td>\n",
       "      <td>...</td>\n",
       "    </tr>\n",
       "    <tr>\n",
       "      <th>414</th>\n",
       "      <td>2023-03-12</td>\n",
       "      <td>2023</td>\n",
       "      <td>3</td>\n",
       "      <td>12</td>\n",
       "      <td>Sunday</td>\n",
       "    </tr>\n",
       "    <tr>\n",
       "      <th>415</th>\n",
       "      <td>2023-03-13</td>\n",
       "      <td>2023</td>\n",
       "      <td>3</td>\n",
       "      <td>13</td>\n",
       "      <td>Monday</td>\n",
       "    </tr>\n",
       "    <tr>\n",
       "      <th>416</th>\n",
       "      <td>2023-03-14</td>\n",
       "      <td>2023</td>\n",
       "      <td>3</td>\n",
       "      <td>14</td>\n",
       "      <td>Tuesday</td>\n",
       "    </tr>\n",
       "    <tr>\n",
       "      <th>417</th>\n",
       "      <td>2023-03-15</td>\n",
       "      <td>2023</td>\n",
       "      <td>3</td>\n",
       "      <td>15</td>\n",
       "      <td>Wednesday</td>\n",
       "    </tr>\n",
       "    <tr>\n",
       "      <th>418</th>\n",
       "      <td>2023-03-16</td>\n",
       "      <td>2023</td>\n",
       "      <td>3</td>\n",
       "      <td>16</td>\n",
       "      <td>Thursday</td>\n",
       "    </tr>\n",
       "  </tbody>\n",
       "</table>\n",
       "<p>419 rows × 5 columns</p>\n",
       "</div>"
      ],
      "text/plain": [
       "          date  year  month  day        dow\n",
       "0   2022-01-01  2022      1    1   Saturday\n",
       "1   2022-01-02  2022      1    2     Sunday\n",
       "2   2022-01-03  2022      1    3     Monday\n",
       "3   2022-01-04  2022      1    4    Tuesday\n",
       "4   2022-01-05  2022      1    5  Wednesday\n",
       "..         ...   ...    ...  ...        ...\n",
       "414 2023-03-12  2023      3   12     Sunday\n",
       "415 2023-03-13  2023      3   13     Monday\n",
       "416 2023-03-14  2023      3   14    Tuesday\n",
       "417 2023-03-15  2023      3   15  Wednesday\n",
       "418 2023-03-16  2023      3   16   Thursday\n",
       "\n",
       "[419 rows x 5 columns]"
      ]
     },
     "execution_count": 35,
     "metadata": {},
     "output_type": "execute_result"
    }
   ],
   "source": [
    "test"
   ]
  },
  {
   "cell_type": "code",
   "execution_count": 36,
   "id": "9663bc3c-24a2-4972-bc70-0d2f528eecbc",
   "metadata": {},
   "outputs": [],
   "source": [
    "test = pd.get_dummies(test,columns=['dow'],drop_first=False)"
   ]
  },
  {
   "cell_type": "code",
   "execution_count": 37,
   "id": "66b3375a-c336-4a86-830d-6b08fbf4e6f4",
   "metadata": {},
   "outputs": [
    {
     "data": {
      "text/html": [
       "<div>\n",
       "<style scoped>\n",
       "    .dataframe tbody tr th:only-of-type {\n",
       "        vertical-align: middle;\n",
       "    }\n",
       "\n",
       "    .dataframe tbody tr th {\n",
       "        vertical-align: top;\n",
       "    }\n",
       "\n",
       "    .dataframe thead th {\n",
       "        text-align: right;\n",
       "    }\n",
       "</style>\n",
       "<table border=\"1\" class=\"dataframe\">\n",
       "  <thead>\n",
       "    <tr style=\"text-align: right;\">\n",
       "      <th></th>\n",
       "      <th>date</th>\n",
       "      <th>year</th>\n",
       "      <th>month</th>\n",
       "      <th>day</th>\n",
       "      <th>dow_Friday</th>\n",
       "      <th>dow_Monday</th>\n",
       "      <th>dow_Saturday</th>\n",
       "      <th>dow_Sunday</th>\n",
       "      <th>dow_Thursday</th>\n",
       "      <th>dow_Tuesday</th>\n",
       "      <th>dow_Wednesday</th>\n",
       "    </tr>\n",
       "  </thead>\n",
       "  <tbody>\n",
       "    <tr>\n",
       "      <th>0</th>\n",
       "      <td>2022-01-01</td>\n",
       "      <td>2022</td>\n",
       "      <td>1</td>\n",
       "      <td>1</td>\n",
       "      <td>0</td>\n",
       "      <td>0</td>\n",
       "      <td>1</td>\n",
       "      <td>0</td>\n",
       "      <td>0</td>\n",
       "      <td>0</td>\n",
       "      <td>0</td>\n",
       "    </tr>\n",
       "    <tr>\n",
       "      <th>1</th>\n",
       "      <td>2022-01-02</td>\n",
       "      <td>2022</td>\n",
       "      <td>1</td>\n",
       "      <td>2</td>\n",
       "      <td>0</td>\n",
       "      <td>0</td>\n",
       "      <td>0</td>\n",
       "      <td>1</td>\n",
       "      <td>0</td>\n",
       "      <td>0</td>\n",
       "      <td>0</td>\n",
       "    </tr>\n",
       "    <tr>\n",
       "      <th>2</th>\n",
       "      <td>2022-01-03</td>\n",
       "      <td>2022</td>\n",
       "      <td>1</td>\n",
       "      <td>3</td>\n",
       "      <td>0</td>\n",
       "      <td>1</td>\n",
       "      <td>0</td>\n",
       "      <td>0</td>\n",
       "      <td>0</td>\n",
       "      <td>0</td>\n",
       "      <td>0</td>\n",
       "    </tr>\n",
       "    <tr>\n",
       "      <th>3</th>\n",
       "      <td>2022-01-04</td>\n",
       "      <td>2022</td>\n",
       "      <td>1</td>\n",
       "      <td>4</td>\n",
       "      <td>0</td>\n",
       "      <td>0</td>\n",
       "      <td>0</td>\n",
       "      <td>0</td>\n",
       "      <td>0</td>\n",
       "      <td>1</td>\n",
       "      <td>0</td>\n",
       "    </tr>\n",
       "    <tr>\n",
       "      <th>4</th>\n",
       "      <td>2022-01-05</td>\n",
       "      <td>2022</td>\n",
       "      <td>1</td>\n",
       "      <td>5</td>\n",
       "      <td>0</td>\n",
       "      <td>0</td>\n",
       "      <td>0</td>\n",
       "      <td>0</td>\n",
       "      <td>0</td>\n",
       "      <td>0</td>\n",
       "      <td>1</td>\n",
       "    </tr>\n",
       "    <tr>\n",
       "      <th>...</th>\n",
       "      <td>...</td>\n",
       "      <td>...</td>\n",
       "      <td>...</td>\n",
       "      <td>...</td>\n",
       "      <td>...</td>\n",
       "      <td>...</td>\n",
       "      <td>...</td>\n",
       "      <td>...</td>\n",
       "      <td>...</td>\n",
       "      <td>...</td>\n",
       "      <td>...</td>\n",
       "    </tr>\n",
       "    <tr>\n",
       "      <th>414</th>\n",
       "      <td>2023-03-12</td>\n",
       "      <td>2023</td>\n",
       "      <td>3</td>\n",
       "      <td>12</td>\n",
       "      <td>0</td>\n",
       "      <td>0</td>\n",
       "      <td>0</td>\n",
       "      <td>1</td>\n",
       "      <td>0</td>\n",
       "      <td>0</td>\n",
       "      <td>0</td>\n",
       "    </tr>\n",
       "    <tr>\n",
       "      <th>415</th>\n",
       "      <td>2023-03-13</td>\n",
       "      <td>2023</td>\n",
       "      <td>3</td>\n",
       "      <td>13</td>\n",
       "      <td>0</td>\n",
       "      <td>1</td>\n",
       "      <td>0</td>\n",
       "      <td>0</td>\n",
       "      <td>0</td>\n",
       "      <td>0</td>\n",
       "      <td>0</td>\n",
       "    </tr>\n",
       "    <tr>\n",
       "      <th>416</th>\n",
       "      <td>2023-03-14</td>\n",
       "      <td>2023</td>\n",
       "      <td>3</td>\n",
       "      <td>14</td>\n",
       "      <td>0</td>\n",
       "      <td>0</td>\n",
       "      <td>0</td>\n",
       "      <td>0</td>\n",
       "      <td>0</td>\n",
       "      <td>1</td>\n",
       "      <td>0</td>\n",
       "    </tr>\n",
       "    <tr>\n",
       "      <th>417</th>\n",
       "      <td>2023-03-15</td>\n",
       "      <td>2023</td>\n",
       "      <td>3</td>\n",
       "      <td>15</td>\n",
       "      <td>0</td>\n",
       "      <td>0</td>\n",
       "      <td>0</td>\n",
       "      <td>0</td>\n",
       "      <td>0</td>\n",
       "      <td>0</td>\n",
       "      <td>1</td>\n",
       "    </tr>\n",
       "    <tr>\n",
       "      <th>418</th>\n",
       "      <td>2023-03-16</td>\n",
       "      <td>2023</td>\n",
       "      <td>3</td>\n",
       "      <td>16</td>\n",
       "      <td>0</td>\n",
       "      <td>0</td>\n",
       "      <td>0</td>\n",
       "      <td>0</td>\n",
       "      <td>1</td>\n",
       "      <td>0</td>\n",
       "      <td>0</td>\n",
       "    </tr>\n",
       "  </tbody>\n",
       "</table>\n",
       "<p>419 rows × 11 columns</p>\n",
       "</div>"
      ],
      "text/plain": [
       "          date  year  month  day  dow_Friday  dow_Monday  dow_Saturday  \\\n",
       "0   2022-01-01  2022      1    1           0           0             1   \n",
       "1   2022-01-02  2022      1    2           0           0             0   \n",
       "2   2022-01-03  2022      1    3           0           1             0   \n",
       "3   2022-01-04  2022      1    4           0           0             0   \n",
       "4   2022-01-05  2022      1    5           0           0             0   \n",
       "..         ...   ...    ...  ...         ...         ...           ...   \n",
       "414 2023-03-12  2023      3   12           0           0             0   \n",
       "415 2023-03-13  2023      3   13           0           1             0   \n",
       "416 2023-03-14  2023      3   14           0           0             0   \n",
       "417 2023-03-15  2023      3   15           0           0             0   \n",
       "418 2023-03-16  2023      3   16           0           0             0   \n",
       "\n",
       "     dow_Sunday  dow_Thursday  dow_Tuesday  dow_Wednesday  \n",
       "0             0             0            0              0  \n",
       "1             1             0            0              0  \n",
       "2             0             0            0              0  \n",
       "3             0             0            1              0  \n",
       "4             0             0            0              1  \n",
       "..          ...           ...          ...            ...  \n",
       "414           1             0            0              0  \n",
       "415           0             0            0              0  \n",
       "416           0             0            1              0  \n",
       "417           0             0            0              1  \n",
       "418           0             1            0              0  \n",
       "\n",
       "[419 rows x 11 columns]"
      ]
     },
     "execution_count": 37,
     "metadata": {},
     "output_type": "execute_result"
    }
   ],
   "source": [
    "test"
   ]
  },
  {
   "cell_type": "code",
   "execution_count": 38,
   "id": "4a43ac00-5fdc-4721-9838-cb1801d507e8",
   "metadata": {},
   "outputs": [],
   "source": [
    "test.drop('date',axis=1,inplace=True)"
   ]
  },
  {
   "cell_type": "code",
   "execution_count": 39,
   "id": "ae0ccb8f-dbfd-49a8-9c63-1e006612a7c7",
   "metadata": {},
   "outputs": [
    {
     "data": {
      "text/html": [
       "<div>\n",
       "<style scoped>\n",
       "    .dataframe tbody tr th:only-of-type {\n",
       "        vertical-align: middle;\n",
       "    }\n",
       "\n",
       "    .dataframe tbody tr th {\n",
       "        vertical-align: top;\n",
       "    }\n",
       "\n",
       "    .dataframe thead th {\n",
       "        text-align: right;\n",
       "    }\n",
       "</style>\n",
       "<table border=\"1\" class=\"dataframe\">\n",
       "  <thead>\n",
       "    <tr style=\"text-align: right;\">\n",
       "      <th></th>\n",
       "      <th>year</th>\n",
       "      <th>month</th>\n",
       "      <th>day</th>\n",
       "      <th>dow_Friday</th>\n",
       "      <th>dow_Monday</th>\n",
       "      <th>dow_Saturday</th>\n",
       "      <th>dow_Sunday</th>\n",
       "      <th>dow_Thursday</th>\n",
       "      <th>dow_Tuesday</th>\n",
       "      <th>dow_Wednesday</th>\n",
       "    </tr>\n",
       "  </thead>\n",
       "  <tbody>\n",
       "    <tr>\n",
       "      <th>0</th>\n",
       "      <td>2022</td>\n",
       "      <td>1</td>\n",
       "      <td>1</td>\n",
       "      <td>0</td>\n",
       "      <td>0</td>\n",
       "      <td>1</td>\n",
       "      <td>0</td>\n",
       "      <td>0</td>\n",
       "      <td>0</td>\n",
       "      <td>0</td>\n",
       "    </tr>\n",
       "    <tr>\n",
       "      <th>1</th>\n",
       "      <td>2022</td>\n",
       "      <td>1</td>\n",
       "      <td>2</td>\n",
       "      <td>0</td>\n",
       "      <td>0</td>\n",
       "      <td>0</td>\n",
       "      <td>1</td>\n",
       "      <td>0</td>\n",
       "      <td>0</td>\n",
       "      <td>0</td>\n",
       "    </tr>\n",
       "    <tr>\n",
       "      <th>2</th>\n",
       "      <td>2022</td>\n",
       "      <td>1</td>\n",
       "      <td>3</td>\n",
       "      <td>0</td>\n",
       "      <td>1</td>\n",
       "      <td>0</td>\n",
       "      <td>0</td>\n",
       "      <td>0</td>\n",
       "      <td>0</td>\n",
       "      <td>0</td>\n",
       "    </tr>\n",
       "    <tr>\n",
       "      <th>3</th>\n",
       "      <td>2022</td>\n",
       "      <td>1</td>\n",
       "      <td>4</td>\n",
       "      <td>0</td>\n",
       "      <td>0</td>\n",
       "      <td>0</td>\n",
       "      <td>0</td>\n",
       "      <td>0</td>\n",
       "      <td>1</td>\n",
       "      <td>0</td>\n",
       "    </tr>\n",
       "    <tr>\n",
       "      <th>4</th>\n",
       "      <td>2022</td>\n",
       "      <td>1</td>\n",
       "      <td>5</td>\n",
       "      <td>0</td>\n",
       "      <td>0</td>\n",
       "      <td>0</td>\n",
       "      <td>0</td>\n",
       "      <td>0</td>\n",
       "      <td>0</td>\n",
       "      <td>1</td>\n",
       "    </tr>\n",
       "    <tr>\n",
       "      <th>...</th>\n",
       "      <td>...</td>\n",
       "      <td>...</td>\n",
       "      <td>...</td>\n",
       "      <td>...</td>\n",
       "      <td>...</td>\n",
       "      <td>...</td>\n",
       "      <td>...</td>\n",
       "      <td>...</td>\n",
       "      <td>...</td>\n",
       "      <td>...</td>\n",
       "    </tr>\n",
       "    <tr>\n",
       "      <th>414</th>\n",
       "      <td>2023</td>\n",
       "      <td>3</td>\n",
       "      <td>12</td>\n",
       "      <td>0</td>\n",
       "      <td>0</td>\n",
       "      <td>0</td>\n",
       "      <td>1</td>\n",
       "      <td>0</td>\n",
       "      <td>0</td>\n",
       "      <td>0</td>\n",
       "    </tr>\n",
       "    <tr>\n",
       "      <th>415</th>\n",
       "      <td>2023</td>\n",
       "      <td>3</td>\n",
       "      <td>13</td>\n",
       "      <td>0</td>\n",
       "      <td>1</td>\n",
       "      <td>0</td>\n",
       "      <td>0</td>\n",
       "      <td>0</td>\n",
       "      <td>0</td>\n",
       "      <td>0</td>\n",
       "    </tr>\n",
       "    <tr>\n",
       "      <th>416</th>\n",
       "      <td>2023</td>\n",
       "      <td>3</td>\n",
       "      <td>14</td>\n",
       "      <td>0</td>\n",
       "      <td>0</td>\n",
       "      <td>0</td>\n",
       "      <td>0</td>\n",
       "      <td>0</td>\n",
       "      <td>1</td>\n",
       "      <td>0</td>\n",
       "    </tr>\n",
       "    <tr>\n",
       "      <th>417</th>\n",
       "      <td>2023</td>\n",
       "      <td>3</td>\n",
       "      <td>15</td>\n",
       "      <td>0</td>\n",
       "      <td>0</td>\n",
       "      <td>0</td>\n",
       "      <td>0</td>\n",
       "      <td>0</td>\n",
       "      <td>0</td>\n",
       "      <td>1</td>\n",
       "    </tr>\n",
       "    <tr>\n",
       "      <th>418</th>\n",
       "      <td>2023</td>\n",
       "      <td>3</td>\n",
       "      <td>16</td>\n",
       "      <td>0</td>\n",
       "      <td>0</td>\n",
       "      <td>0</td>\n",
       "      <td>0</td>\n",
       "      <td>1</td>\n",
       "      <td>0</td>\n",
       "      <td>0</td>\n",
       "    </tr>\n",
       "  </tbody>\n",
       "</table>\n",
       "<p>419 rows × 10 columns</p>\n",
       "</div>"
      ],
      "text/plain": [
       "     year  month  day  dow_Friday  dow_Monday  dow_Saturday  dow_Sunday  \\\n",
       "0    2022      1    1           0           0             1           0   \n",
       "1    2022      1    2           0           0             0           1   \n",
       "2    2022      1    3           0           1             0           0   \n",
       "3    2022      1    4           0           0             0           0   \n",
       "4    2022      1    5           0           0             0           0   \n",
       "..    ...    ...  ...         ...         ...           ...         ...   \n",
       "414  2023      3   12           0           0             0           1   \n",
       "415  2023      3   13           0           1             0           0   \n",
       "416  2023      3   14           0           0             0           0   \n",
       "417  2023      3   15           0           0             0           0   \n",
       "418  2023      3   16           0           0             0           0   \n",
       "\n",
       "     dow_Thursday  dow_Tuesday  dow_Wednesday  \n",
       "0               0            0              0  \n",
       "1               0            0              0  \n",
       "2               0            0              0  \n",
       "3               0            1              0  \n",
       "4               0            0              1  \n",
       "..            ...          ...            ...  \n",
       "414             0            0              0  \n",
       "415             0            0              0  \n",
       "416             0            1              0  \n",
       "417             0            0              1  \n",
       "418             1            0              0  \n",
       "\n",
       "[419 rows x 10 columns]"
      ]
     },
     "execution_count": 39,
     "metadata": {},
     "output_type": "execute_result"
    }
   ],
   "source": [
    "test"
   ]
  },
  {
   "cell_type": "code",
   "execution_count": 40,
   "id": "13299517-4e5a-4580-8014-fe3b8250a366",
   "metadata": {},
   "outputs": [
    {
     "data": {
      "text/html": [
       "<div>\n",
       "<style scoped>\n",
       "    .dataframe tbody tr th:only-of-type {\n",
       "        vertical-align: middle;\n",
       "    }\n",
       "\n",
       "    .dataframe tbody tr th {\n",
       "        vertical-align: top;\n",
       "    }\n",
       "\n",
       "    .dataframe thead th {\n",
       "        text-align: right;\n",
       "    }\n",
       "</style>\n",
       "<table border=\"1\" class=\"dataframe\">\n",
       "  <thead>\n",
       "    <tr style=\"text-align: right;\">\n",
       "      <th></th>\n",
       "      <th>year</th>\n",
       "      <th>month</th>\n",
       "      <th>day</th>\n",
       "      <th>dow_Friday</th>\n",
       "      <th>dow_Monday</th>\n",
       "      <th>dow_Saturday</th>\n",
       "      <th>dow_Sunday</th>\n",
       "      <th>dow_Thursday</th>\n",
       "      <th>dow_Tuesday</th>\n",
       "      <th>dow_Wednesday</th>\n",
       "    </tr>\n",
       "  </thead>\n",
       "  <tbody>\n",
       "    <tr>\n",
       "      <th>1135</th>\n",
       "      <td>2018</td>\n",
       "      <td>7</td>\n",
       "      <td>31</td>\n",
       "      <td>0</td>\n",
       "      <td>0</td>\n",
       "      <td>0</td>\n",
       "      <td>0</td>\n",
       "      <td>0</td>\n",
       "      <td>1</td>\n",
       "      <td>0</td>\n",
       "    </tr>\n",
       "    <tr>\n",
       "      <th>37</th>\n",
       "      <td>2015</td>\n",
       "      <td>5</td>\n",
       "      <td>15</td>\n",
       "      <td>1</td>\n",
       "      <td>0</td>\n",
       "      <td>0</td>\n",
       "      <td>0</td>\n",
       "      <td>0</td>\n",
       "      <td>0</td>\n",
       "      <td>0</td>\n",
       "    </tr>\n",
       "    <tr>\n",
       "      <th>123</th>\n",
       "      <td>2015</td>\n",
       "      <td>10</td>\n",
       "      <td>2</td>\n",
       "      <td>1</td>\n",
       "      <td>0</td>\n",
       "      <td>0</td>\n",
       "      <td>0</td>\n",
       "      <td>0</td>\n",
       "      <td>0</td>\n",
       "      <td>0</td>\n",
       "    </tr>\n",
       "    <tr>\n",
       "      <th>2046</th>\n",
       "      <td>2021</td>\n",
       "      <td>2</td>\n",
       "      <td>19</td>\n",
       "      <td>1</td>\n",
       "      <td>0</td>\n",
       "      <td>0</td>\n",
       "      <td>0</td>\n",
       "      <td>0</td>\n",
       "      <td>0</td>\n",
       "      <td>0</td>\n",
       "    </tr>\n",
       "    <tr>\n",
       "      <th>394</th>\n",
       "      <td>2016</td>\n",
       "      <td>7</td>\n",
       "      <td>3</td>\n",
       "      <td>0</td>\n",
       "      <td>0</td>\n",
       "      <td>0</td>\n",
       "      <td>1</td>\n",
       "      <td>0</td>\n",
       "      <td>0</td>\n",
       "      <td>0</td>\n",
       "    </tr>\n",
       "    <tr>\n",
       "      <th>...</th>\n",
       "      <td>...</td>\n",
       "      <td>...</td>\n",
       "      <td>...</td>\n",
       "      <td>...</td>\n",
       "      <td>...</td>\n",
       "      <td>...</td>\n",
       "      <td>...</td>\n",
       "      <td>...</td>\n",
       "      <td>...</td>\n",
       "      <td>...</td>\n",
       "    </tr>\n",
       "    <tr>\n",
       "      <th>1638</th>\n",
       "      <td>2019</td>\n",
       "      <td>12</td>\n",
       "      <td>30</td>\n",
       "      <td>0</td>\n",
       "      <td>1</td>\n",
       "      <td>0</td>\n",
       "      <td>0</td>\n",
       "      <td>0</td>\n",
       "      <td>0</td>\n",
       "      <td>0</td>\n",
       "    </tr>\n",
       "    <tr>\n",
       "      <th>1095</th>\n",
       "      <td>2018</td>\n",
       "      <td>6</td>\n",
       "      <td>21</td>\n",
       "      <td>0</td>\n",
       "      <td>0</td>\n",
       "      <td>0</td>\n",
       "      <td>0</td>\n",
       "      <td>1</td>\n",
       "      <td>0</td>\n",
       "      <td>0</td>\n",
       "    </tr>\n",
       "    <tr>\n",
       "      <th>1130</th>\n",
       "      <td>2018</td>\n",
       "      <td>7</td>\n",
       "      <td>26</td>\n",
       "      <td>0</td>\n",
       "      <td>0</td>\n",
       "      <td>0</td>\n",
       "      <td>0</td>\n",
       "      <td>1</td>\n",
       "      <td>0</td>\n",
       "      <td>0</td>\n",
       "    </tr>\n",
       "    <tr>\n",
       "      <th>1294</th>\n",
       "      <td>2019</td>\n",
       "      <td>1</td>\n",
       "      <td>15</td>\n",
       "      <td>0</td>\n",
       "      <td>0</td>\n",
       "      <td>0</td>\n",
       "      <td>0</td>\n",
       "      <td>0</td>\n",
       "      <td>1</td>\n",
       "      <td>0</td>\n",
       "    </tr>\n",
       "    <tr>\n",
       "      <th>860</th>\n",
       "      <td>2017</td>\n",
       "      <td>10</td>\n",
       "      <td>25</td>\n",
       "      <td>0</td>\n",
       "      <td>0</td>\n",
       "      <td>0</td>\n",
       "      <td>0</td>\n",
       "      <td>0</td>\n",
       "      <td>0</td>\n",
       "      <td>1</td>\n",
       "    </tr>\n",
       "  </tbody>\n",
       "</table>\n",
       "<p>1577 rows × 10 columns</p>\n",
       "</div>"
      ],
      "text/plain": [
       "      year  month  day  dow_Friday  dow_Monday  dow_Saturday  dow_Sunday  \\\n",
       "1135  2018      7   31           0           0             0           0   \n",
       "37    2015      5   15           1           0             0           0   \n",
       "123   2015     10    2           1           0             0           0   \n",
       "2046  2021      2   19           1           0             0           0   \n",
       "394   2016      7    3           0           0             0           1   \n",
       "...    ...    ...  ...         ...         ...           ...         ...   \n",
       "1638  2019     12   30           0           1             0           0   \n",
       "1095  2018      6   21           0           0             0           0   \n",
       "1130  2018      7   26           0           0             0           0   \n",
       "1294  2019      1   15           0           0             0           0   \n",
       "860   2017     10   25           0           0             0           0   \n",
       "\n",
       "      dow_Thursday  dow_Tuesday  dow_Wednesday  \n",
       "1135             0            1              0  \n",
       "37               0            0              0  \n",
       "123              0            0              0  \n",
       "2046             0            0              0  \n",
       "394              0            0              0  \n",
       "...            ...          ...            ...  \n",
       "1638             0            0              0  \n",
       "1095             1            0              0  \n",
       "1130             1            0              0  \n",
       "1294             0            1              0  \n",
       "860              0            0              1  \n",
       "\n",
       "[1577 rows x 10 columns]"
      ]
     },
     "execution_count": 40,
     "metadata": {},
     "output_type": "execute_result"
    }
   ],
   "source": [
    "X_train"
   ]
  },
  {
   "cell_type": "code",
   "execution_count": null,
   "id": "99975d8a-f95f-448e-84f8-62d1d3e99e4d",
   "metadata": {},
   "outputs": [],
   "source": []
  },
  {
   "cell_type": "code",
   "execution_count": null,
   "id": "d1e5e830-a5e7-4af8-813a-603e129ee547",
   "metadata": {},
   "outputs": [],
   "source": []
  },
  {
   "cell_type": "markdown",
   "id": "96293000-76bc-462e-811d-4c9ddac8808f",
   "metadata": {},
   "source": [
    "## Using flaml"
   ]
  },
  {
   "cell_type": "code",
   "execution_count": 41,
   "id": "357bf3eb-232a-4543-8457-ab8b820a638c",
   "metadata": {},
   "outputs": [],
   "source": [
    "from flaml import AutoML"
   ]
  },
  {
   "cell_type": "code",
   "execution_count": 42,
   "id": "720e9342-1747-4ab4-8b9d-1750dbfb9121",
   "metadata": {},
   "outputs": [],
   "source": [
    "automl = AutoML()\n",
    "# Specify automl goal and constraint\n",
    "automl_settings = {\n",
    "    \"time_budget\": 30,  # in seconds\n",
    "    \"metric\": 'rmse',\n",
    "    \"task\": 'regression',\n",
    "}"
   ]
  },
  {
   "cell_type": "code",
   "execution_count": 43,
   "id": "d133e4a3-707f-46bf-b082-72cb5bcc7807",
   "metadata": {},
   "outputs": [
    {
     "name": "stdout",
     "output_type": "stream",
     "text": [
      "[flaml.automl.automl: 03-24 01:01:52] {2726} INFO - task = regression\n",
      "[flaml.automl.automl: 03-24 01:01:52] {2728} INFO - Data split method: uniform\n",
      "[flaml.automl.automl: 03-24 01:01:52] {2731} INFO - Evaluation method: cv\n",
      "[flaml.automl.automl: 03-24 01:01:52] {2858} INFO - Minimizing error metric: rmse\n",
      "[flaml.automl.automl: 03-24 01:01:52] {3004} INFO - List of ML learners in AutoML Run: ['lgbm', 'rf', 'catboost', 'xgboost', 'extra_tree', 'xgb_limitdepth']\n",
      "[flaml.automl.automl: 03-24 01:01:52] {3334} INFO - iteration 0, current learner lgbm\n",
      "[flaml.automl.automl: 03-24 01:01:53] {3472} INFO - Estimated sufficient time budget=2483s. Estimated necessary time budget=21s.\n",
      "[flaml.automl.automl: 03-24 01:01:53] {3519} INFO -  at 0.4s,\testimator lgbm's best error=1.9939,\tbest estimator lgbm's best error=1.9939\n",
      "[flaml.automl.automl: 03-24 01:01:53] {3334} INFO - iteration 1, current learner lgbm\n",
      "[flaml.automl.automl: 03-24 01:01:53] {3519} INFO -  at 0.6s,\testimator lgbm's best error=1.9939,\tbest estimator lgbm's best error=1.9939\n",
      "[flaml.automl.automl: 03-24 01:01:53] {3334} INFO - iteration 2, current learner lgbm\n",
      "[flaml.automl.automl: 03-24 01:01:53] {3519} INFO -  at 0.9s,\testimator lgbm's best error=1.6953,\tbest estimator lgbm's best error=1.6953\n",
      "[flaml.automl.automl: 03-24 01:01:53] {3334} INFO - iteration 3, current learner xgboost\n",
      "[flaml.automl.automl: 03-24 01:01:53] {3519} INFO -  at 1.3s,\testimator xgboost's best error=4.9202,\tbest estimator lgbm's best error=1.6953\n",
      "[flaml.automl.automl: 03-24 01:01:53] {3334} INFO - iteration 4, current learner extra_tree\n",
      "[flaml.automl.automl: 03-24 01:01:54] {3519} INFO -  at 1.5s,\testimator extra_tree's best error=1.9683,\tbest estimator lgbm's best error=1.6953\n",
      "[flaml.automl.automl: 03-24 01:01:54] {3334} INFO - iteration 5, current learner lgbm\n",
      "[flaml.automl.automl: 03-24 01:01:54] {3519} INFO -  at 1.9s,\testimator lgbm's best error=1.2792,\tbest estimator lgbm's best error=1.2792\n",
      "[flaml.automl.automl: 03-24 01:01:54] {3334} INFO - iteration 6, current learner xgboost\n",
      "[flaml.automl.automl: 03-24 01:01:54] {3519} INFO -  at 2.3s,\testimator xgboost's best error=4.9202,\tbest estimator lgbm's best error=1.2792\n",
      "[flaml.automl.automl: 03-24 01:01:54] {3334} INFO - iteration 7, current learner lgbm\n",
      "[flaml.automl.automl: 03-24 01:01:55] {3519} INFO -  at 2.6s,\testimator lgbm's best error=1.2792,\tbest estimator lgbm's best error=1.2792\n",
      "[flaml.automl.automl: 03-24 01:01:55] {3334} INFO - iteration 8, current learner lgbm\n",
      "[flaml.automl.automl: 03-24 01:01:55] {3519} INFO -  at 3.0s,\testimator lgbm's best error=1.2231,\tbest estimator lgbm's best error=1.2231\n",
      "[flaml.automl.automl: 03-24 01:01:55] {3334} INFO - iteration 9, current learner lgbm\n",
      "[flaml.automl.automl: 03-24 01:01:56] {3519} INFO -  at 3.4s,\testimator lgbm's best error=1.2231,\tbest estimator lgbm's best error=1.2231\n",
      "[flaml.automl.automl: 03-24 01:01:56] {3334} INFO - iteration 10, current learner xgboost\n",
      "[flaml.automl.automl: 03-24 01:01:56] {3519} INFO -  at 3.8s,\testimator xgboost's best error=2.6572,\tbest estimator lgbm's best error=1.2231\n",
      "[flaml.automl.automl: 03-24 01:01:56] {3334} INFO - iteration 11, current learner extra_tree\n",
      "[flaml.automl.automl: 03-24 01:01:56] {3519} INFO -  at 4.1s,\testimator extra_tree's best error=1.3824,\tbest estimator lgbm's best error=1.2231\n",
      "[flaml.automl.automl: 03-24 01:01:56] {3334} INFO - iteration 12, current learner extra_tree\n",
      "[flaml.automl.automl: 03-24 01:01:57] {3519} INFO -  at 4.4s,\testimator extra_tree's best error=1.3824,\tbest estimator lgbm's best error=1.2231\n",
      "[flaml.automl.automl: 03-24 01:01:57] {3334} INFO - iteration 13, current learner extra_tree\n",
      "[flaml.automl.automl: 03-24 01:01:57] {3519} INFO -  at 4.8s,\testimator extra_tree's best error=1.2565,\tbest estimator lgbm's best error=1.2231\n",
      "[flaml.automl.automl: 03-24 01:01:57] {3334} INFO - iteration 14, current learner rf\n",
      "[flaml.automl.automl: 03-24 01:01:57] {3519} INFO -  at 5.1s,\testimator rf's best error=1.7184,\tbest estimator lgbm's best error=1.2231\n",
      "[flaml.automl.automl: 03-24 01:01:57] {3334} INFO - iteration 15, current learner xgboost\n",
      "[flaml.automl.automl: 03-24 01:01:58] {3519} INFO -  at 5.5s,\testimator xgboost's best error=1.4997,\tbest estimator lgbm's best error=1.2231\n",
      "[flaml.automl.automl: 03-24 01:01:58] {3334} INFO - iteration 16, current learner rf\n",
      "[flaml.automl.automl: 03-24 01:01:58] {3519} INFO -  at 5.8s,\testimator rf's best error=1.1436,\tbest estimator rf's best error=1.1436\n",
      "[flaml.automl.automl: 03-24 01:01:58] {3334} INFO - iteration 17, current learner xgboost\n",
      "[flaml.automl.automl: 03-24 01:01:58] {3519} INFO -  at 6.2s,\testimator xgboost's best error=1.4997,\tbest estimator rf's best error=1.1436\n",
      "[flaml.automl.automl: 03-24 01:01:58] {3334} INFO - iteration 18, current learner lgbm\n",
      "[flaml.automl.automl: 03-24 01:01:59] {3519} INFO -  at 6.5s,\testimator lgbm's best error=1.2231,\tbest estimator rf's best error=1.1436\n",
      "[flaml.automl.automl: 03-24 01:01:59] {3334} INFO - iteration 19, current learner xgboost\n",
      "[flaml.automl.automl: 03-24 01:01:59] {3519} INFO -  at 6.9s,\testimator xgboost's best error=1.4726,\tbest estimator rf's best error=1.1436\n",
      "[flaml.automl.automl: 03-24 01:01:59] {3334} INFO - iteration 20, current learner rf\n",
      "[flaml.automl.automl: 03-24 01:01:59] {3519} INFO -  at 7.2s,\testimator rf's best error=1.1436,\tbest estimator rf's best error=1.1436\n",
      "[flaml.automl.automl: 03-24 01:01:59] {3334} INFO - iteration 21, current learner rf\n",
      "[flaml.automl.automl: 03-24 01:02:00] {3519} INFO -  at 7.5s,\testimator rf's best error=1.1312,\tbest estimator rf's best error=1.1312\n",
      "[flaml.automl.automl: 03-24 01:02:00] {3334} INFO - iteration 22, current learner rf\n",
      "[flaml.automl.automl: 03-24 01:02:00] {3519} INFO -  at 7.9s,\testimator rf's best error=1.1312,\tbest estimator rf's best error=1.1312\n",
      "[flaml.automl.automl: 03-24 01:02:00] {3334} INFO - iteration 23, current learner rf\n",
      "[flaml.automl.automl: 03-24 01:02:00] {3519} INFO -  at 8.4s,\testimator rf's best error=1.1312,\tbest estimator rf's best error=1.1312\n",
      "[flaml.automl.automl: 03-24 01:02:00] {3334} INFO - iteration 24, current learner extra_tree\n",
      "[flaml.automl.automl: 03-24 01:02:01] {3519} INFO -  at 8.6s,\testimator extra_tree's best error=1.2565,\tbest estimator rf's best error=1.1312\n",
      "[flaml.automl.automl: 03-24 01:02:01] {3334} INFO - iteration 25, current learner extra_tree\n",
      "[flaml.automl.automl: 03-24 01:02:01] {3519} INFO -  at 8.9s,\testimator extra_tree's best error=1.2565,\tbest estimator rf's best error=1.1312\n",
      "[flaml.automl.automl: 03-24 01:02:01] {3334} INFO - iteration 26, current learner rf\n",
      "[flaml.automl.automl: 03-24 01:02:01] {3519} INFO -  at 9.1s,\testimator rf's best error=1.1312,\tbest estimator rf's best error=1.1312\n",
      "[flaml.automl.automl: 03-24 01:02:01] {3334} INFO - iteration 27, current learner rf\n",
      "[flaml.automl.automl: 03-24 01:02:02] {3519} INFO -  at 9.5s,\testimator rf's best error=1.1312,\tbest estimator rf's best error=1.1312\n",
      "[flaml.automl.automl: 03-24 01:02:02] {3334} INFO - iteration 28, current learner extra_tree\n",
      "[flaml.automl.automl: 03-24 01:02:02] {3519} INFO -  at 9.9s,\testimator extra_tree's best error=1.2565,\tbest estimator rf's best error=1.1312\n",
      "[flaml.automl.automl: 03-24 01:02:02] {3334} INFO - iteration 29, current learner extra_tree\n",
      "[flaml.automl.automl: 03-24 01:02:02] {3519} INFO -  at 10.3s,\testimator extra_tree's best error=1.2565,\tbest estimator rf's best error=1.1312\n",
      "[flaml.automl.automl: 03-24 01:02:02] {3334} INFO - iteration 30, current learner lgbm\n",
      "[flaml.automl.automl: 03-24 01:02:03] {3519} INFO -  at 11.2s,\testimator lgbm's best error=1.2231,\tbest estimator rf's best error=1.1312\n",
      "[flaml.automl.automl: 03-24 01:02:03] {3334} INFO - iteration 31, current learner lgbm\n",
      "[flaml.automl.automl: 03-24 01:02:04] {3519} INFO -  at 11.5s,\testimator lgbm's best error=1.2231,\tbest estimator rf's best error=1.1312\n",
      "[flaml.automl.automl: 03-24 01:02:04] {3334} INFO - iteration 32, current learner rf\n",
      "[flaml.automl.automl: 03-24 01:02:04] {3519} INFO -  at 12.1s,\testimator rf's best error=1.1116,\tbest estimator rf's best error=1.1116\n",
      "[flaml.automl.automl: 03-24 01:02:04] {3334} INFO - iteration 33, current learner extra_tree\n",
      "[flaml.automl.automl: 03-24 01:02:05] {3519} INFO -  at 12.6s,\testimator extra_tree's best error=1.2565,\tbest estimator rf's best error=1.1116\n",
      "[flaml.automl.automl: 03-24 01:02:05] {3334} INFO - iteration 34, current learner lgbm\n",
      "[flaml.automl.automl: 03-24 01:02:06] {3519} INFO -  at 13.6s,\testimator lgbm's best error=1.2055,\tbest estimator rf's best error=1.1116\n",
      "[flaml.automl.automl: 03-24 01:02:06] {3334} INFO - iteration 35, current learner rf\n",
      "[flaml.automl.automl: 03-24 01:02:06] {3519} INFO -  at 13.9s,\testimator rf's best error=1.1116,\tbest estimator rf's best error=1.1116\n",
      "[flaml.automl.automl: 03-24 01:02:06] {3334} INFO - iteration 36, current learner extra_tree\n",
      "[flaml.automl.automl: 03-24 01:02:06] {3519} INFO -  at 14.2s,\testimator extra_tree's best error=1.2565,\tbest estimator rf's best error=1.1116\n",
      "[flaml.automl.automl: 03-24 01:02:06] {3334} INFO - iteration 37, current learner rf\n",
      "[flaml.automl.automl: 03-24 01:02:07] {3519} INFO -  at 15.0s,\testimator rf's best error=1.1116,\tbest estimator rf's best error=1.1116\n",
      "[flaml.automl.automl: 03-24 01:02:07] {3334} INFO - iteration 38, current learner rf\n",
      "[flaml.automl.automl: 03-24 01:02:08] {3519} INFO -  at 15.5s,\testimator rf's best error=1.1116,\tbest estimator rf's best error=1.1116\n",
      "[flaml.automl.automl: 03-24 01:02:08] {3334} INFO - iteration 39, current learner rf\n",
      "[flaml.automl.automl: 03-24 01:02:09] {3519} INFO -  at 16.4s,\testimator rf's best error=1.1116,\tbest estimator rf's best error=1.1116\n",
      "[flaml.automl.automl: 03-24 01:02:09] {3334} INFO - iteration 40, current learner xgboost\n",
      "[flaml.automl.automl: 03-24 01:02:09] {3519} INFO -  at 17.0s,\testimator xgboost's best error=1.2873,\tbest estimator rf's best error=1.1116\n",
      "[flaml.automl.automl: 03-24 01:02:09] {3334} INFO - iteration 41, current learner xgboost\n",
      "[flaml.automl.automl: 03-24 01:02:10] {3519} INFO -  at 17.8s,\testimator xgboost's best error=1.2873,\tbest estimator rf's best error=1.1116\n",
      "[flaml.automl.automl: 03-24 01:02:10] {3334} INFO - iteration 42, current learner lgbm\n",
      "[flaml.automl.automl: 03-24 01:02:11] {3519} INFO -  at 19.0s,\testimator lgbm's best error=1.2055,\tbest estimator rf's best error=1.1116\n",
      "[flaml.automl.automl: 03-24 01:02:11] {3334} INFO - iteration 43, current learner xgboost\n",
      "[flaml.automl.automl: 03-24 01:02:12] {3519} INFO -  at 19.5s,\testimator xgboost's best error=1.2873,\tbest estimator rf's best error=1.1116\n",
      "[flaml.automl.automl: 03-24 01:02:12] {3334} INFO - iteration 44, current learner extra_tree\n",
      "[flaml.automl.automl: 03-24 01:02:12] {3519} INFO -  at 19.8s,\testimator extra_tree's best error=1.1614,\tbest estimator rf's best error=1.1116\n",
      "[flaml.automl.automl: 03-24 01:02:12] {3334} INFO - iteration 45, current learner extra_tree\n",
      "[flaml.automl.automl: 03-24 01:02:12] {3519} INFO -  at 20.2s,\testimator extra_tree's best error=1.1614,\tbest estimator rf's best error=1.1116\n",
      "[flaml.automl.automl: 03-24 01:02:12] {3334} INFO - iteration 46, current learner rf\n",
      "[flaml.automl.automl: 03-24 01:02:13] {3519} INFO -  at 20.6s,\testimator rf's best error=1.1116,\tbest estimator rf's best error=1.1116\n",
      "[flaml.automl.automl: 03-24 01:02:13] {3334} INFO - iteration 47, current learner extra_tree\n",
      "[flaml.automl.automl: 03-24 01:02:13] {3519} INFO -  at 20.9s,\testimator extra_tree's best error=1.1614,\tbest estimator rf's best error=1.1116\n",
      "[flaml.automl.automl: 03-24 01:02:13] {3334} INFO - iteration 48, current learner rf\n",
      "[flaml.automl.automl: 03-24 01:02:14] {3519} INFO -  at 21.5s,\testimator rf's best error=1.1116,\tbest estimator rf's best error=1.1116\n",
      "[flaml.automl.automl: 03-24 01:02:14] {3334} INFO - iteration 49, current learner xgboost\n",
      "[flaml.automl.automl: 03-24 01:02:14] {3519} INFO -  at 22.2s,\testimator xgboost's best error=1.2873,\tbest estimator rf's best error=1.1116\n",
      "[flaml.automl.automl: 03-24 01:02:14] {3334} INFO - iteration 50, current learner extra_tree\n",
      "[flaml.automl.automl: 03-24 01:02:15] {3519} INFO -  at 22.5s,\testimator extra_tree's best error=1.1614,\tbest estimator rf's best error=1.1116\n",
      "[flaml.automl.automl: 03-24 01:02:15] {3334} INFO - iteration 51, current learner rf\n",
      "[flaml.automl.automl: 03-24 01:02:15] {3519} INFO -  at 22.9s,\testimator rf's best error=1.1116,\tbest estimator rf's best error=1.1116\n",
      "[flaml.automl.automl: 03-24 01:02:15] {3334} INFO - iteration 52, current learner rf\n",
      "[flaml.automl.automl: 03-24 01:02:16] {3519} INFO -  at 24.1s,\testimator rf's best error=1.1116,\tbest estimator rf's best error=1.1116\n",
      "[flaml.automl.automl: 03-24 01:02:16] {3334} INFO - iteration 53, current learner rf\n",
      "[flaml.automl.automl: 03-24 01:02:17] {3519} INFO -  at 24.8s,\testimator rf's best error=1.1116,\tbest estimator rf's best error=1.1116\n",
      "[flaml.automl.automl: 03-24 01:02:17] {3334} INFO - iteration 54, current learner lgbm\n",
      "[flaml.automl.automl: 03-24 01:02:18] {3519} INFO -  at 25.6s,\testimator lgbm's best error=1.2055,\tbest estimator rf's best error=1.1116\n",
      "[flaml.automl.automl: 03-24 01:02:18] {3334} INFO - iteration 55, current learner extra_tree\n",
      "[flaml.automl.automl: 03-24 01:02:18] {3519} INFO -  at 25.9s,\testimator extra_tree's best error=1.1614,\tbest estimator rf's best error=1.1116\n",
      "[flaml.automl.automl: 03-24 01:02:18] {3334} INFO - iteration 56, current learner catboost\n"
     ]
    },
    {
     "name": "stderr",
     "output_type": "stream",
     "text": [
      "C:\\ANACONDA\\envs\\my_env\\lib\\site-packages\\catboost\\core.py:1411: FutureWarning: iteritems is deprecated and will be removed in a future version. Use .items instead.\n",
      "  self._init_pool(data, label, cat_features, text_features, embedding_features, embedding_features_data, pairs, weight,\n",
      "C:\\ANACONDA\\envs\\my_env\\lib\\site-packages\\catboost\\core.py:1411: FutureWarning: iteritems is deprecated and will be removed in a future version. Use .items instead.\n",
      "  self._init_pool(data, label, cat_features, text_features, embedding_features, embedding_features_data, pairs, weight,\n",
      "C:\\ANACONDA\\envs\\my_env\\lib\\site-packages\\catboost\\core.py:1411: FutureWarning: iteritems is deprecated and will be removed in a future version. Use .items instead.\n",
      "  self._init_pool(data, label, cat_features, text_features, embedding_features, embedding_features_data, pairs, weight,\n",
      "C:\\ANACONDA\\envs\\my_env\\lib\\site-packages\\catboost\\core.py:1411: FutureWarning: iteritems is deprecated and will be removed in a future version. Use .items instead.\n",
      "  self._init_pool(data, label, cat_features, text_features, embedding_features, embedding_features_data, pairs, weight,\n",
      "C:\\ANACONDA\\envs\\my_env\\lib\\site-packages\\catboost\\core.py:1411: FutureWarning: iteritems is deprecated and will be removed in a future version. Use .items instead.\n",
      "  self._init_pool(data, label, cat_features, text_features, embedding_features, embedding_features_data, pairs, weight,\n"
     ]
    },
    {
     "name": "stdout",
     "output_type": "stream",
     "text": [
      "[flaml.automl.automl: 03-24 01:02:20] {3519} INFO -  at 28.2s,\testimator catboost's best error=1.1500,\tbest estimator rf's best error=1.1116\n",
      "[flaml.automl.automl: 03-24 01:02:20] {3334} INFO - iteration 57, current learner rf\n",
      "[flaml.automl.automl: 03-24 01:02:21] {3519} INFO -  at 28.6s,\testimator rf's best error=1.1116,\tbest estimator rf's best error=1.1116\n",
      "[flaml.automl.automl: 03-24 01:02:21] {3334} INFO - iteration 58, current learner rf\n",
      "[flaml.automl.automl: 03-24 01:02:21] {3519} INFO -  at 29.4s,\testimator rf's best error=1.1046,\tbest estimator rf's best error=1.1046\n",
      "[flaml.automl.automl: 03-24 01:02:21] {3334} INFO - iteration 59, current learner extra_tree\n",
      "[flaml.automl.automl: 03-24 01:02:22] {3519} INFO -  at 29.8s,\testimator extra_tree's best error=1.1614,\tbest estimator rf's best error=1.1046\n",
      "[flaml.automl.automl: 03-24 01:02:22] {3334} INFO - iteration 60, current learner xgb_limitdepth\n",
      "[flaml.automl.automl: 03-24 01:02:22] {3519} INFO -  at 30.1s,\testimator xgb_limitdepth's best error=2.1358,\tbest estimator rf's best error=1.1046\n",
      "[flaml.automl.automl: 03-24 01:02:22] {3783} INFO - retrain rf for 0.2s\n",
      "[flaml.automl.automl: 03-24 01:02:22] {3790} INFO - retrained model: RandomForestRegressor(max_features=0.8309485929315814, max_leaf_nodes=19,\n",
      "                      n_estimators=27, n_jobs=-1, random_state=12032022)\n",
      "[flaml.automl.automl: 03-24 01:02:22] {3034} INFO - fit succeeded\n",
      "[flaml.automl.automl: 03-24 01:02:22] {3035} INFO - Time taken to find the best model: 29.353106260299683\n"
     ]
    }
   ],
   "source": [
    "automl.fit(X_train=X_train, y_train=y_train,**automl_settings)"
   ]
  },
  {
   "cell_type": "code",
   "execution_count": 44,
   "id": "67e8d45f-e7d2-486b-ba45-63d817a4cb34",
   "metadata": {},
   "outputs": [
    {
     "data": {
      "text/plain": [
       "'rf'"
      ]
     },
     "execution_count": 44,
     "metadata": {},
     "output_type": "execute_result"
    }
   ],
   "source": [
    "automl.best_estimator"
   ]
  },
  {
   "cell_type": "code",
   "execution_count": 45,
   "id": "f94d1f47-0a9b-4214-860b-eda6d456d9c9",
   "metadata": {},
   "outputs": [
    {
     "data": {
      "text/plain": [
       "{'lgbm': 1.2054733340347417,\n",
       " 'rf': 1.1046480536466659,\n",
       " 'catboost': 1.1499801180066684,\n",
       " 'xgboost': 1.2872999823758637,\n",
       " 'extra_tree': 1.1613893082712319,\n",
       " 'xgb_limitdepth': 2.135782150518628}"
      ]
     },
     "execution_count": 45,
     "metadata": {},
     "output_type": "execute_result"
    }
   ],
   "source": [
    "automl.best_loss_per_estimator"
   ]
  },
  {
   "cell_type": "code",
   "execution_count": 46,
   "id": "02798973-df18-4676-87d2-110175145f3b",
   "metadata": {},
   "outputs": [
    {
     "data": {
      "text/plain": [
       "{'early_stopping_rounds': 10,\n",
       " 'learning_rate': 0.09999999999999996,\n",
       " 'n_estimators': 41}"
      ]
     },
     "execution_count": 46,
     "metadata": {},
     "output_type": "execute_result"
    }
   ],
   "source": [
    "automl.best_config_per_estimator['catboost']"
   ]
  },
  {
   "cell_type": "markdown",
   "id": "a8fb98ed-b677-42e9-be81-3d81c3d57af5",
   "metadata": {},
   "source": [
    "### 1) CatBoost"
   ]
  },
  {
   "cell_type": "code",
   "execution_count": 47,
   "id": "7ee6a7fe-5307-437f-a1f0-863e59c13c40",
   "metadata": {},
   "outputs": [],
   "source": [
    "from catboost import CatBoostRegressor"
   ]
  },
  {
   "cell_type": "code",
   "execution_count": 48,
   "id": "62a6c2cf-fcbd-4e6b-b5d1-ff4f2b2a183f",
   "metadata": {},
   "outputs": [
    {
     "name": "stderr",
     "output_type": "stream",
     "text": [
      "C:\\ANACONDA\\envs\\my_env\\lib\\site-packages\\catboost\\core.py:1411: FutureWarning: iteritems is deprecated and will be removed in a future version. Use .items instead.\n",
      "  self._init_pool(data, label, cat_features, text_features, embedding_features, embedding_features_data, pairs, weight,\n"
     ]
    },
    {
     "name": "stdout",
     "output_type": "stream",
     "text": [
      "0:\tlearn: 2.1507904\ttest: 2.1252523\tbest: 2.1252523 (0)\ttotal: 1.92ms\tremaining: 1.91s\n",
      "100:\tlearn: 1.0626958\ttest: 1.0737788\tbest: 1.0737788 (100)\ttotal: 202ms\tremaining: 1.79s\n",
      "200:\tlearn: 0.9688089\ttest: 1.0372246\tbest: 1.0372246 (200)\ttotal: 386ms\tremaining: 1.53s\n",
      "300:\tlearn: 0.9070579\ttest: 1.0306946\tbest: 1.0306882 (294)\ttotal: 563ms\tremaining: 1.31s\n",
      "Stopped by overfitting detector  (30 iterations wait)\n",
      "\n",
      "bestTest = 1.030688177\n",
      "bestIteration = 294\n",
      "\n",
      "Shrink model to first 295 iterations.\n",
      "1.0306881791471743\n",
      "0.10816871346039982\n",
      "0.7796809624171787\n"
     ]
    }
   ],
   "source": [
    "cb = CatBoostRegressor(iterations=1000, early_stopping_rounds=30, learning_rate = 0.05, random_state=42,use_best_model=True)\n",
    "cb.fit(X_train,y_train,eval_set=(X_test,y_test), verbose=100)\n",
    "cb_pred = cb.predict(X_test)\n",
    "print(mean_squared_error(y_test,cb_pred)**0.5)\n",
    "print(mean_absolute_percentage_error(y_test,cb_pred))\n",
    "print(r2_score(y_test,cb_pred))"
   ]
  },
  {
   "cell_type": "code",
   "execution_count": 49,
   "id": "829d1d4d-9782-448c-b710-da072c2b24fa",
   "metadata": {},
   "outputs": [
    {
     "data": {
      "text/plain": [
       "year             68.533316\n",
       "month            25.958341\n",
       "day               3.201890\n",
       "dow_Saturday      0.588488\n",
       "dow_Monday        0.480077\n",
       "dow_Sunday        0.323516\n",
       "dow_Tuesday       0.315847\n",
       "dow_Friday        0.256781\n",
       "dow_Wednesday     0.216699\n",
       "dow_Thursday      0.125046\n",
       "dtype: float64"
      ]
     },
     "execution_count": 49,
     "metadata": {},
     "output_type": "execute_result"
    }
   ],
   "source": [
    "pd.Series(cb.feature_importances_, index=X_train.columns).sort_values(ascending=False)"
   ]
  },
  {
   "cell_type": "code",
   "execution_count": null,
   "id": "636532e9-5271-4f72-af6a-84e05107aa6a",
   "metadata": {},
   "outputs": [],
   "source": []
  },
  {
   "cell_type": "markdown",
   "id": "f3a8d932-0df3-4200-bd83-bb47dc0b4eff",
   "metadata": {},
   "source": [
    "### cb1 better than cb2 (RMSE basis)"
   ]
  },
  {
   "cell_type": "code",
   "execution_count": 50,
   "id": "2a17ec45-394d-4233-bb87-2ecc2c7f2d94",
   "metadata": {},
   "outputs": [],
   "source": [
    "cb_full_1 = CatBoostRegressor(iterations=1000, early_stopping_rounds=30, learning_rate = 0.05, random_state=42)"
   ]
  },
  {
   "cell_type": "code",
   "execution_count": 51,
   "id": "cab34ee8-54d1-4f5a-ae31-fc6e5916ba9e",
   "metadata": {},
   "outputs": [
    {
     "name": "stdout",
     "output_type": "stream",
     "text": [
      "0:\tlearn: 2.1414797\ttotal: 2.29ms\tremaining: 2.29s\n"
     ]
    },
    {
     "name": "stderr",
     "output_type": "stream",
     "text": [
      "C:\\ANACONDA\\envs\\my_env\\lib\\site-packages\\catboost\\core.py:1411: FutureWarning: iteritems is deprecated and will be removed in a future version. Use .items instead.\n",
      "  self._init_pool(data, label, cat_features, text_features, embedding_features, embedding_features_data, pairs, weight,\n"
     ]
    },
    {
     "name": "stdout",
     "output_type": "stream",
     "text": [
      "100:\tlearn: 1.0487568\ttotal: 199ms\tremaining: 1.77s\n",
      "200:\tlearn: 0.9796001\ttotal: 373ms\tremaining: 1.48s\n",
      "300:\tlearn: 0.9300104\ttotal: 554ms\tremaining: 1.28s\n",
      "400:\tlearn: 0.8896906\ttotal: 753ms\tremaining: 1.12s\n",
      "500:\tlearn: 0.8509325\ttotal: 950ms\tremaining: 946ms\n",
      "600:\tlearn: 0.8213017\ttotal: 1.14s\tremaining: 760ms\n",
      "700:\tlearn: 0.7928055\ttotal: 1.31s\tremaining: 561ms\n",
      "800:\tlearn: 0.7659069\ttotal: 1.49s\tremaining: 371ms\n",
      "900:\tlearn: 0.7430080\ttotal: 1.67s\tremaining: 183ms\n",
      "999:\tlearn: 0.7209810\ttotal: 1.84s\tremaining: 0us\n"
     ]
    },
    {
     "data": {
      "text/plain": [
       "<catboost.core.CatBoostRegressor at 0x1df8fad8070>"
      ]
     },
     "execution_count": 51,
     "metadata": {},
     "output_type": "execute_result"
    }
   ],
   "source": [
    "cb_full_1.fit(X,y,verbose=100)"
   ]
  },
  {
   "cell_type": "code",
   "execution_count": 52,
   "id": "97b5bee5-afd2-4d60-8bc6-66100520cfda",
   "metadata": {},
   "outputs": [
    {
     "data": {
      "text/html": [
       "<div>\n",
       "<style scoped>\n",
       "    .dataframe tbody tr th:only-of-type {\n",
       "        vertical-align: middle;\n",
       "    }\n",
       "\n",
       "    .dataframe tbody tr th {\n",
       "        vertical-align: top;\n",
       "    }\n",
       "\n",
       "    .dataframe thead th {\n",
       "        text-align: right;\n",
       "    }\n",
       "</style>\n",
       "<table border=\"1\" class=\"dataframe\">\n",
       "  <thead>\n",
       "    <tr style=\"text-align: right;\">\n",
       "      <th></th>\n",
       "      <th>year</th>\n",
       "      <th>month</th>\n",
       "      <th>day</th>\n",
       "      <th>dow_Friday</th>\n",
       "      <th>dow_Monday</th>\n",
       "      <th>dow_Saturday</th>\n",
       "      <th>dow_Sunday</th>\n",
       "      <th>dow_Thursday</th>\n",
       "      <th>dow_Tuesday</th>\n",
       "      <th>dow_Wednesday</th>\n",
       "    </tr>\n",
       "  </thead>\n",
       "  <tbody>\n",
       "    <tr>\n",
       "      <th>0</th>\n",
       "      <td>2022</td>\n",
       "      <td>1</td>\n",
       "      <td>1</td>\n",
       "      <td>0</td>\n",
       "      <td>0</td>\n",
       "      <td>1</td>\n",
       "      <td>0</td>\n",
       "      <td>0</td>\n",
       "      <td>0</td>\n",
       "      <td>0</td>\n",
       "    </tr>\n",
       "    <tr>\n",
       "      <th>1</th>\n",
       "      <td>2022</td>\n",
       "      <td>1</td>\n",
       "      <td>2</td>\n",
       "      <td>0</td>\n",
       "      <td>0</td>\n",
       "      <td>0</td>\n",
       "      <td>1</td>\n",
       "      <td>0</td>\n",
       "      <td>0</td>\n",
       "      <td>0</td>\n",
       "    </tr>\n",
       "    <tr>\n",
       "      <th>2</th>\n",
       "      <td>2022</td>\n",
       "      <td>1</td>\n",
       "      <td>3</td>\n",
       "      <td>0</td>\n",
       "      <td>1</td>\n",
       "      <td>0</td>\n",
       "      <td>0</td>\n",
       "      <td>0</td>\n",
       "      <td>0</td>\n",
       "      <td>0</td>\n",
       "    </tr>\n",
       "    <tr>\n",
       "      <th>3</th>\n",
       "      <td>2022</td>\n",
       "      <td>1</td>\n",
       "      <td>4</td>\n",
       "      <td>0</td>\n",
       "      <td>0</td>\n",
       "      <td>0</td>\n",
       "      <td>0</td>\n",
       "      <td>0</td>\n",
       "      <td>1</td>\n",
       "      <td>0</td>\n",
       "    </tr>\n",
       "    <tr>\n",
       "      <th>4</th>\n",
       "      <td>2022</td>\n",
       "      <td>1</td>\n",
       "      <td>5</td>\n",
       "      <td>0</td>\n",
       "      <td>0</td>\n",
       "      <td>0</td>\n",
       "      <td>0</td>\n",
       "      <td>0</td>\n",
       "      <td>0</td>\n",
       "      <td>1</td>\n",
       "    </tr>\n",
       "    <tr>\n",
       "      <th>...</th>\n",
       "      <td>...</td>\n",
       "      <td>...</td>\n",
       "      <td>...</td>\n",
       "      <td>...</td>\n",
       "      <td>...</td>\n",
       "      <td>...</td>\n",
       "      <td>...</td>\n",
       "      <td>...</td>\n",
       "      <td>...</td>\n",
       "      <td>...</td>\n",
       "    </tr>\n",
       "    <tr>\n",
       "      <th>414</th>\n",
       "      <td>2023</td>\n",
       "      <td>3</td>\n",
       "      <td>12</td>\n",
       "      <td>0</td>\n",
       "      <td>0</td>\n",
       "      <td>0</td>\n",
       "      <td>1</td>\n",
       "      <td>0</td>\n",
       "      <td>0</td>\n",
       "      <td>0</td>\n",
       "    </tr>\n",
       "    <tr>\n",
       "      <th>415</th>\n",
       "      <td>2023</td>\n",
       "      <td>3</td>\n",
       "      <td>13</td>\n",
       "      <td>0</td>\n",
       "      <td>1</td>\n",
       "      <td>0</td>\n",
       "      <td>0</td>\n",
       "      <td>0</td>\n",
       "      <td>0</td>\n",
       "      <td>0</td>\n",
       "    </tr>\n",
       "    <tr>\n",
       "      <th>416</th>\n",
       "      <td>2023</td>\n",
       "      <td>3</td>\n",
       "      <td>14</td>\n",
       "      <td>0</td>\n",
       "      <td>0</td>\n",
       "      <td>0</td>\n",
       "      <td>0</td>\n",
       "      <td>0</td>\n",
       "      <td>1</td>\n",
       "      <td>0</td>\n",
       "    </tr>\n",
       "    <tr>\n",
       "      <th>417</th>\n",
       "      <td>2023</td>\n",
       "      <td>3</td>\n",
       "      <td>15</td>\n",
       "      <td>0</td>\n",
       "      <td>0</td>\n",
       "      <td>0</td>\n",
       "      <td>0</td>\n",
       "      <td>0</td>\n",
       "      <td>0</td>\n",
       "      <td>1</td>\n",
       "    </tr>\n",
       "    <tr>\n",
       "      <th>418</th>\n",
       "      <td>2023</td>\n",
       "      <td>3</td>\n",
       "      <td>16</td>\n",
       "      <td>0</td>\n",
       "      <td>0</td>\n",
       "      <td>0</td>\n",
       "      <td>0</td>\n",
       "      <td>1</td>\n",
       "      <td>0</td>\n",
       "      <td>0</td>\n",
       "    </tr>\n",
       "  </tbody>\n",
       "</table>\n",
       "<p>419 rows × 10 columns</p>\n",
       "</div>"
      ],
      "text/plain": [
       "     year  month  day  dow_Friday  dow_Monday  dow_Saturday  dow_Sunday  \\\n",
       "0    2022      1    1           0           0             1           0   \n",
       "1    2022      1    2           0           0             0           1   \n",
       "2    2022      1    3           0           1             0           0   \n",
       "3    2022      1    4           0           0             0           0   \n",
       "4    2022      1    5           0           0             0           0   \n",
       "..    ...    ...  ...         ...         ...           ...         ...   \n",
       "414  2023      3   12           0           0             0           1   \n",
       "415  2023      3   13           0           1             0           0   \n",
       "416  2023      3   14           0           0             0           0   \n",
       "417  2023      3   15           0           0             0           0   \n",
       "418  2023      3   16           0           0             0           0   \n",
       "\n",
       "     dow_Thursday  dow_Tuesday  dow_Wednesday  \n",
       "0               0            0              0  \n",
       "1               0            0              0  \n",
       "2               0            0              0  \n",
       "3               0            1              0  \n",
       "4               0            0              1  \n",
       "..            ...          ...            ...  \n",
       "414             0            0              0  \n",
       "415             0            0              0  \n",
       "416             0            1              0  \n",
       "417             0            0              1  \n",
       "418             1            0              0  \n",
       "\n",
       "[419 rows x 10 columns]"
      ]
     },
     "execution_count": 52,
     "metadata": {},
     "output_type": "execute_result"
    }
   ],
   "source": [
    "test"
   ]
  },
  {
   "cell_type": "code",
   "execution_count": 53,
   "id": "cf4a3908-72f5-4751-8bc7-084d045f284d",
   "metadata": {},
   "outputs": [
    {
     "name": "stderr",
     "output_type": "stream",
     "text": [
      "C:\\ANACONDA\\envs\\my_env\\lib\\site-packages\\catboost\\core.py:1411: FutureWarning: iteritems is deprecated and will be removed in a future version. Use .items instead.\n",
      "  self._init_pool(data, label, cat_features, text_features, embedding_features, embedding_features_data, pairs, weight,\n"
     ]
    }
   ],
   "source": [
    "test['sleep_hours'] = cb_full_1.predict(test)"
   ]
  },
  {
   "cell_type": "code",
   "execution_count": 54,
   "id": "d70f3df2-4e5b-4f53-89eb-b64c6d331723",
   "metadata": {},
   "outputs": [
    {
     "data": {
      "text/html": [
       "<div>\n",
       "<style scoped>\n",
       "    .dataframe tbody tr th:only-of-type {\n",
       "        vertical-align: middle;\n",
       "    }\n",
       "\n",
       "    .dataframe tbody tr th {\n",
       "        vertical-align: top;\n",
       "    }\n",
       "\n",
       "    .dataframe thead th {\n",
       "        text-align: right;\n",
       "    }\n",
       "</style>\n",
       "<table border=\"1\" class=\"dataframe\">\n",
       "  <thead>\n",
       "    <tr style=\"text-align: right;\">\n",
       "      <th></th>\n",
       "      <th>year</th>\n",
       "      <th>month</th>\n",
       "      <th>day</th>\n",
       "      <th>dow_Friday</th>\n",
       "      <th>dow_Monday</th>\n",
       "      <th>dow_Saturday</th>\n",
       "      <th>dow_Sunday</th>\n",
       "      <th>dow_Thursday</th>\n",
       "      <th>dow_Tuesday</th>\n",
       "      <th>dow_Wednesday</th>\n",
       "      <th>sleep_hours</th>\n",
       "    </tr>\n",
       "  </thead>\n",
       "  <tbody>\n",
       "    <tr>\n",
       "      <th>0</th>\n",
       "      <td>2022</td>\n",
       "      <td>1</td>\n",
       "      <td>1</td>\n",
       "      <td>0</td>\n",
       "      <td>0</td>\n",
       "      <td>1</td>\n",
       "      <td>0</td>\n",
       "      <td>0</td>\n",
       "      <td>0</td>\n",
       "      <td>0</td>\n",
       "      <td>6.380976</td>\n",
       "    </tr>\n",
       "    <tr>\n",
       "      <th>1</th>\n",
       "      <td>2022</td>\n",
       "      <td>1</td>\n",
       "      <td>2</td>\n",
       "      <td>0</td>\n",
       "      <td>0</td>\n",
       "      <td>0</td>\n",
       "      <td>1</td>\n",
       "      <td>0</td>\n",
       "      <td>0</td>\n",
       "      <td>0</td>\n",
       "      <td>6.181323</td>\n",
       "    </tr>\n",
       "    <tr>\n",
       "      <th>2</th>\n",
       "      <td>2022</td>\n",
       "      <td>1</td>\n",
       "      <td>3</td>\n",
       "      <td>0</td>\n",
       "      <td>1</td>\n",
       "      <td>0</td>\n",
       "      <td>0</td>\n",
       "      <td>0</td>\n",
       "      <td>0</td>\n",
       "      <td>0</td>\n",
       "      <td>6.200406</td>\n",
       "    </tr>\n",
       "    <tr>\n",
       "      <th>3</th>\n",
       "      <td>2022</td>\n",
       "      <td>1</td>\n",
       "      <td>4</td>\n",
       "      <td>0</td>\n",
       "      <td>0</td>\n",
       "      <td>0</td>\n",
       "      <td>0</td>\n",
       "      <td>0</td>\n",
       "      <td>1</td>\n",
       "      <td>0</td>\n",
       "      <td>6.096843</td>\n",
       "    </tr>\n",
       "    <tr>\n",
       "      <th>4</th>\n",
       "      <td>2022</td>\n",
       "      <td>1</td>\n",
       "      <td>5</td>\n",
       "      <td>0</td>\n",
       "      <td>0</td>\n",
       "      <td>0</td>\n",
       "      <td>0</td>\n",
       "      <td>0</td>\n",
       "      <td>0</td>\n",
       "      <td>1</td>\n",
       "      <td>5.750057</td>\n",
       "    </tr>\n",
       "    <tr>\n",
       "      <th>...</th>\n",
       "      <td>...</td>\n",
       "      <td>...</td>\n",
       "      <td>...</td>\n",
       "      <td>...</td>\n",
       "      <td>...</td>\n",
       "      <td>...</td>\n",
       "      <td>...</td>\n",
       "      <td>...</td>\n",
       "      <td>...</td>\n",
       "      <td>...</td>\n",
       "      <td>...</td>\n",
       "    </tr>\n",
       "    <tr>\n",
       "      <th>414</th>\n",
       "      <td>2023</td>\n",
       "      <td>3</td>\n",
       "      <td>12</td>\n",
       "      <td>0</td>\n",
       "      <td>0</td>\n",
       "      <td>0</td>\n",
       "      <td>1</td>\n",
       "      <td>0</td>\n",
       "      <td>0</td>\n",
       "      <td>0</td>\n",
       "      <td>7.719243</td>\n",
       "    </tr>\n",
       "    <tr>\n",
       "      <th>415</th>\n",
       "      <td>2023</td>\n",
       "      <td>3</td>\n",
       "      <td>13</td>\n",
       "      <td>0</td>\n",
       "      <td>1</td>\n",
       "      <td>0</td>\n",
       "      <td>0</td>\n",
       "      <td>0</td>\n",
       "      <td>0</td>\n",
       "      <td>0</td>\n",
       "      <td>7.073487</td>\n",
       "    </tr>\n",
       "    <tr>\n",
       "      <th>416</th>\n",
       "      <td>2023</td>\n",
       "      <td>3</td>\n",
       "      <td>14</td>\n",
       "      <td>0</td>\n",
       "      <td>0</td>\n",
       "      <td>0</td>\n",
       "      <td>0</td>\n",
       "      <td>0</td>\n",
       "      <td>1</td>\n",
       "      <td>0</td>\n",
       "      <td>6.568965</td>\n",
       "    </tr>\n",
       "    <tr>\n",
       "      <th>417</th>\n",
       "      <td>2023</td>\n",
       "      <td>3</td>\n",
       "      <td>15</td>\n",
       "      <td>0</td>\n",
       "      <td>0</td>\n",
       "      <td>0</td>\n",
       "      <td>0</td>\n",
       "      <td>0</td>\n",
       "      <td>0</td>\n",
       "      <td>1</td>\n",
       "      <td>6.963856</td>\n",
       "    </tr>\n",
       "    <tr>\n",
       "      <th>418</th>\n",
       "      <td>2023</td>\n",
       "      <td>3</td>\n",
       "      <td>16</td>\n",
       "      <td>0</td>\n",
       "      <td>0</td>\n",
       "      <td>0</td>\n",
       "      <td>0</td>\n",
       "      <td>1</td>\n",
       "      <td>0</td>\n",
       "      <td>0</td>\n",
       "      <td>7.412768</td>\n",
       "    </tr>\n",
       "  </tbody>\n",
       "</table>\n",
       "<p>419 rows × 11 columns</p>\n",
       "</div>"
      ],
      "text/plain": [
       "     year  month  day  dow_Friday  dow_Monday  dow_Saturday  dow_Sunday  \\\n",
       "0    2022      1    1           0           0             1           0   \n",
       "1    2022      1    2           0           0             0           1   \n",
       "2    2022      1    3           0           1             0           0   \n",
       "3    2022      1    4           0           0             0           0   \n",
       "4    2022      1    5           0           0             0           0   \n",
       "..    ...    ...  ...         ...         ...           ...         ...   \n",
       "414  2023      3   12           0           0             0           1   \n",
       "415  2023      3   13           0           1             0           0   \n",
       "416  2023      3   14           0           0             0           0   \n",
       "417  2023      3   15           0           0             0           0   \n",
       "418  2023      3   16           0           0             0           0   \n",
       "\n",
       "     dow_Thursday  dow_Tuesday  dow_Wednesday  sleep_hours  \n",
       "0               0            0              0     6.380976  \n",
       "1               0            0              0     6.181323  \n",
       "2               0            0              0     6.200406  \n",
       "3               0            1              0     6.096843  \n",
       "4               0            0              1     5.750057  \n",
       "..            ...          ...            ...          ...  \n",
       "414             0            0              0     7.719243  \n",
       "415             0            0              0     7.073487  \n",
       "416             0            1              0     6.568965  \n",
       "417             0            0              1     6.963856  \n",
       "418             1            0              0     7.412768  \n",
       "\n",
       "[419 rows x 11 columns]"
      ]
     },
     "execution_count": 54,
     "metadata": {},
     "output_type": "execute_result"
    }
   ],
   "source": [
    "test"
   ]
  },
  {
   "cell_type": "code",
   "execution_count": 55,
   "id": "b3ad7703-4d26-429e-acb8-13b23b7cef71",
   "metadata": {},
   "outputs": [],
   "source": [
    "sub = pd.read_csv('sample_submission.csv')"
   ]
  },
  {
   "cell_type": "code",
   "execution_count": 56,
   "id": "6852217f-2157-417b-b838-aca7a6210196",
   "metadata": {},
   "outputs": [
    {
     "name": "stderr",
     "output_type": "stream",
     "text": [
      "C:\\ANACONDA\\envs\\my_env\\lib\\site-packages\\catboost\\core.py:1411: FutureWarning: iteritems is deprecated and will be removed in a future version. Use .items instead.\n",
      "  self._init_pool(data, label, cat_features, text_features, embedding_features, embedding_features_data, pairs, weight,\n"
     ]
    }
   ],
   "source": [
    "sub['sleep_hours'] = cb_full_1.predict(test)"
   ]
  },
  {
   "cell_type": "code",
   "execution_count": 57,
   "id": "135e24f7-e10a-4b20-8991-0dd530360f57",
   "metadata": {},
   "outputs": [],
   "source": [
    "#sub.to_csv('cb_1.csv',index=False)"
   ]
  },
  {
   "cell_type": "markdown",
   "id": "76e344ee-14f0-43c6-8687-1ed7033e369b",
   "metadata": {},
   "source": [
    "### Using Catboost regressor with optuna"
   ]
  },
  {
   "cell_type": "code",
   "execution_count": 58,
   "id": "003ccd07-e53c-49ab-8f74-9e6ca9819b65",
   "metadata": {},
   "outputs": [],
   "source": [
    "import optuna"
   ]
  },
  {
   "cell_type": "code",
   "execution_count": 59,
   "id": "dc1a2c39-c570-4f32-b1f9-4646d4077cd9",
   "metadata": {},
   "outputs": [],
   "source": [
    "SAMPLE_RATE = 0.4\n",
    "RANDOM_SEED = 42\n",
    "EARLY_STOPPING_ROUND = 100"
   ]
  },
  {
   "cell_type": "code",
   "execution_count": 60,
   "id": "25f560f6-dce7-4acc-a870-ec8e5647a89b",
   "metadata": {},
   "outputs": [],
   "source": [
    "def objective(trial):\n",
    "    param = {}\n",
    "    param['learning_rate'] = trial.suggest_discrete_uniform(\"learning_rate\", 0.001, 0.02, 0.001)\n",
    "    param['depth'] = trial.suggest_int('depth', 9, 15)\n",
    "    param['l2_leaf_reg'] = trial.suggest_discrete_uniform('l2_leaf_reg', 1.0, 5.5, 0.5)\n",
    "    param['min_child_samples'] = trial.suggest_categorical('min_child_samples', [1, 4, 8, 16, 32])\n",
    "    param['grow_policy'] = 'Depthwise'\n",
    "    param['iterations'] = 10000\n",
    "    param['use_best_model'] = True\n",
    "    param['eval_metric'] = 'RMSE'\n",
    "    param['od_type'] = 'iter'\n",
    "    param['od_wait'] = 20\n",
    "    param['random_state'] = RANDOM_SEED\n",
    "    param['logging_level'] = 'Silent'\n",
    "    \n",
    "    regressor = CatBoostRegressor(**param)\n",
    "\n",
    "    regressor.fit(X_train.copy(), y_train.copy(),\n",
    "                  eval_set=[(X_test.copy(), y_test.copy())],\n",
    "                  early_stopping_rounds=EARLY_STOPPING_ROUND)\n",
    "    loss = mean_squared_error(y_test, regressor.predict(X_test.copy()))\n",
    "    return loss"
   ]
  },
  {
   "cell_type": "raw",
   "id": "21a31877-74ca-4ead-add6-ab8f328d62f6",
   "metadata": {},
   "source": [
    "%%time\n",
    "study = optuna.create_study(study_name=f'catboost-seed{RANDOM_SEED}')\n",
    "study.optimize(objective, n_trials=10000, timeout=24000)"
   ]
  },
  {
   "cell_type": "raw",
   "id": "97a5caa8-f7b3-4c50-a146-16d538b26c82",
   "metadata": {},
   "source": [
    "study.best_value"
   ]
  },
  {
   "cell_type": "raw",
   "id": "7bbf1971-5691-424c-88fc-2bb8269459a1",
   "metadata": {},
   "source": [
    "study.best_params"
   ]
  },
  {
   "cell_type": "raw",
   "id": "e3daea3a-0509-4ac0-acbc-9326caecdda3",
   "metadata": {},
   "source": [
    "%%time\n",
    "optimized_regressor = CatBoostRegressor(learning_rate=study.best_params['learning_rate'],\n",
    "                                        depth=study.best_params['depth'],\n",
    "                                        l2_leaf_reg=study.best_params['l2_leaf_reg'],\n",
    "                                        min_child_samples=study.best_params['min_child_samples'],\n",
    "                                        grow_policy='Depthwise',\n",
    "                                        iterations=10000,\n",
    "                                        use_best_model=True,\n",
    "                                        eval_metric='RMSE',\n",
    "                                        od_type='iter',\n",
    "                                        od_wait=20,\n",
    "                                        random_state=RANDOM_SEED,\n",
    "                                        logging_level='Silent')\n",
    "optimized_regressor.fit(X_train.copy(), y_train.copy(),\n",
    "                        eval_set=[(X_test.copy(), y_test.copy())],\n",
    "                        early_stopping_rounds=200)\n",
    "pred_train = optimized_regressor.predict(X_train.copy())\n",
    "pred_valid = optimized_regressor.predict(X_test.copy())"
   ]
  },
  {
   "cell_type": "raw",
   "id": "78637d15-b73e-48b1-b3cd-38f7b9ab193c",
   "metadata": {},
   "source": [
    "print(mean_squared_error(y_test,pred_valid))"
   ]
  },
  {
   "cell_type": "raw",
   "id": "ac7c0aec-4559-40e0-8963-7a8dd3bbce62",
   "metadata": {},
   "source": [
    "cb_final = CatBoostRegressor(learning_rate=study.best_params['learning_rate'],\n",
    "                                        depth=study.best_params['depth'],\n",
    "                                        l2_leaf_reg=study.best_params['l2_leaf_reg'],\n",
    "                                        min_child_samples=study.best_params['min_child_samples'],\n",
    "                                        grow_policy='Depthwise',\n",
    "                                        iterations=10000,\n",
    "                                        od_type='iter',\n",
    "                                        od_wait=20,\n",
    "                                        random_state=RANDOM_SEED,\n",
    "                                        logging_level='Silent')"
   ]
  },
  {
   "cell_type": "raw",
   "id": "5d92ab06-0968-46e4-9f5b-8e0213150920",
   "metadata": {},
   "source": [
    "cb_final.fit(X,y,early_stopping_rounds=50)"
   ]
  },
  {
   "cell_type": "raw",
   "id": "61fec27c-69de-45bf-b3f3-5018381aaddc",
   "metadata": {},
   "source": [
    "cb_pred_final = cb_final.predict(test)"
   ]
  },
  {
   "cell_type": "raw",
   "id": "4707931a-b80d-46d3-8ffe-2517a6d4b87b",
   "metadata": {},
   "source": [
    "sub['sleep_hours'] = cb_pred_final"
   ]
  },
  {
   "cell_type": "code",
   "execution_count": 61,
   "id": "036e1ccd-708d-4576-be44-e7abad25e569",
   "metadata": {},
   "outputs": [],
   "source": [
    "#sub.to_csv('cb_optuna.csv',index=False)"
   ]
  },
  {
   "cell_type": "markdown",
   "id": "aa1c1c87-38f8-44e2-a944-85f6d433fe67",
   "metadata": {},
   "source": [
    "## Catboost with Optuna performed pathetic!!"
   ]
  },
  {
   "cell_type": "code",
   "execution_count": null,
   "id": "650e05a9-a1b6-4101-b61c-fe912cb63cad",
   "metadata": {},
   "outputs": [],
   "source": []
  },
  {
   "cell_type": "markdown",
   "id": "a1435bae-bb91-461f-8216-51cf09e44420",
   "metadata": {},
   "source": [
    "## 2) Random Forest"
   ]
  },
  {
   "cell_type": "code",
   "execution_count": 62,
   "id": "d83e69e7-7713-42e7-b482-1fc682751f2b",
   "metadata": {},
   "outputs": [],
   "source": [
    "from sklearn.ensemble import RandomForestRegressor, RandomTreesEmbedding"
   ]
  },
  {
   "cell_type": "code",
   "execution_count": 63,
   "id": "e481d4e6-c4b1-45d3-8184-7c6f8d0bc27b",
   "metadata": {},
   "outputs": [],
   "source": [
    "#RandomTreesEmbedding()"
   ]
  },
  {
   "cell_type": "code",
   "execution_count": 64,
   "id": "b7b2d5b7-0111-4a02-a3fd-745eff887c5e",
   "metadata": {},
   "outputs": [
    {
     "data": {
      "text/plain": [
       "<bound method AutoML.best_model_for_estimator of AutoML(append_log=False, auto_augment=True, custom_hp={},\n",
       "       cv_score_agg_func=None, early_stop=False, ensemble=False,\n",
       "       estimator_list='auto', eval_method='auto', fit_kwargs_by_estimator={},\n",
       "       force_cancel=False, free_mem_ratio=0, hpo_method='auto',\n",
       "       keep_search_state=False, learner_selector='sample', log_file_name='',\n",
       "       log_training_metric=False, log_type='better', max_iter=None,\n",
       "       mem_thres=4294967296, metric='auto', metric_constraints=[],\n",
       "       min_sample_size=10000, model_history=False, n_concurrent_trials=1,\n",
       "       n_jobs=-1, n_splits=5, pred_time_limit=inf, preserve_checkpoint=True,\n",
       "       retrain_full=True, sample=True, ...)>"
      ]
     },
     "execution_count": 64,
     "metadata": {},
     "output_type": "execute_result"
    }
   ],
   "source": [
    "automl.best_model_for_estimator"
   ]
  },
  {
   "cell_type": "code",
   "execution_count": null,
   "id": "0e8ce8a7-0ac8-4137-9002-f2c27799e98f",
   "metadata": {},
   "outputs": [],
   "source": []
  },
  {
   "cell_type": "code",
   "execution_count": 65,
   "id": "c8e90ce4-03c9-49c4-954d-62c36587262d",
   "metadata": {},
   "outputs": [],
   "source": [
    "automl2 = AutoML()\n",
    "# Specify automl goal and constraint\n",
    "automl_settings = {\n",
    "    \"time_budget\": 30,  # in seconds\n",
    "    \"metric\": 'rmse',\n",
    "    \"task\": 'regression',\n",
    "}"
   ]
  },
  {
   "cell_type": "code",
   "execution_count": null,
   "id": "2e50c59c-2551-4548-ab33-56af36f6e9be",
   "metadata": {},
   "outputs": [],
   "source": []
  },
  {
   "cell_type": "code",
   "execution_count": 66,
   "id": "26e6f6c0-314c-4775-aaa8-152ebc76c8a1",
   "metadata": {},
   "outputs": [
    {
     "name": "stdout",
     "output_type": "stream",
     "text": [
      "[flaml.automl.automl: 03-24 01:02:26] {2726} INFO - task = regression\n",
      "[flaml.automl.automl: 03-24 01:02:26] {2728} INFO - Data split method: uniform\n",
      "[flaml.automl.automl: 03-24 01:02:26] {2731} INFO - Evaluation method: cv\n",
      "[flaml.automl.automl: 03-24 01:02:26] {2858} INFO - Minimizing error metric: rmse\n",
      "[flaml.automl.automl: 03-24 01:02:26] {3004} INFO - List of ML learners in AutoML Run: ['lgbm', 'rf', 'catboost', 'xgboost', 'extra_tree', 'xgb_limitdepth']\n",
      "[flaml.automl.automl: 03-24 01:02:26] {3334} INFO - iteration 0, current learner lgbm\n",
      "[flaml.automl.automl: 03-24 01:02:26] {3472} INFO - Estimated sufficient time budget=3112s. Estimated necessary time budget=27s.\n",
      "[flaml.automl.automl: 03-24 01:02:26] {3519} INFO -  at 0.4s,\testimator lgbm's best error=1.9939,\tbest estimator lgbm's best error=1.9939\n",
      "[flaml.automl.automl: 03-24 01:02:26] {3334} INFO - iteration 1, current learner lgbm\n",
      "[flaml.automl.automl: 03-24 01:02:27] {3519} INFO -  at 0.7s,\testimator lgbm's best error=1.9939,\tbest estimator lgbm's best error=1.9939\n",
      "[flaml.automl.automl: 03-24 01:02:27] {3334} INFO - iteration 2, current learner lgbm\n",
      "[flaml.automl.automl: 03-24 01:02:27] {3519} INFO -  at 1.0s,\testimator lgbm's best error=1.6953,\tbest estimator lgbm's best error=1.6953\n",
      "[flaml.automl.automl: 03-24 01:02:27] {3334} INFO - iteration 3, current learner xgboost\n",
      "[flaml.automl.automl: 03-24 01:02:27] {3519} INFO -  at 1.4s,\testimator xgboost's best error=4.9202,\tbest estimator lgbm's best error=1.6953\n",
      "[flaml.automl.automl: 03-24 01:02:27] {3334} INFO - iteration 4, current learner lgbm\n",
      "[flaml.automl.automl: 03-24 01:02:28] {3519} INFO -  at 1.8s,\testimator lgbm's best error=1.2792,\tbest estimator lgbm's best error=1.2792\n",
      "[flaml.automl.automl: 03-24 01:02:28] {3334} INFO - iteration 5, current learner lgbm\n",
      "[flaml.automl.automl: 03-24 01:02:28] {3519} INFO -  at 2.1s,\testimator lgbm's best error=1.2792,\tbest estimator lgbm's best error=1.2792\n",
      "[flaml.automl.automl: 03-24 01:02:28] {3334} INFO - iteration 6, current learner lgbm\n",
      "[flaml.automl.automl: 03-24 01:02:28] {3519} INFO -  at 2.6s,\testimator lgbm's best error=1.2231,\tbest estimator lgbm's best error=1.2231\n",
      "[flaml.automl.automl: 03-24 01:02:28] {3334} INFO - iteration 7, current learner extra_tree\n",
      "[flaml.automl.automl: 03-24 01:02:29] {3519} INFO -  at 2.9s,\testimator extra_tree's best error=1.9683,\tbest estimator lgbm's best error=1.2231\n",
      "[flaml.automl.automl: 03-24 01:02:29] {3334} INFO - iteration 8, current learner lgbm\n",
      "[flaml.automl.automl: 03-24 01:02:29] {3519} INFO -  at 3.4s,\testimator lgbm's best error=1.2231,\tbest estimator lgbm's best error=1.2231\n",
      "[flaml.automl.automl: 03-24 01:02:29] {3334} INFO - iteration 9, current learner lgbm\n",
      "[flaml.automl.automl: 03-24 01:02:30] {3519} INFO -  at 3.6s,\testimator lgbm's best error=1.2231,\tbest estimator lgbm's best error=1.2231\n",
      "[flaml.automl.automl: 03-24 01:02:30] {3334} INFO - iteration 10, current learner xgboost\n",
      "[flaml.automl.automl: 03-24 01:02:30] {3519} INFO -  at 4.0s,\testimator xgboost's best error=4.9202,\tbest estimator lgbm's best error=1.2231\n",
      "[flaml.automl.automl: 03-24 01:02:30] {3334} INFO - iteration 11, current learner extra_tree\n",
      "[flaml.automl.automl: 03-24 01:02:30] {3519} INFO -  at 4.3s,\testimator extra_tree's best error=1.3824,\tbest estimator lgbm's best error=1.2231\n",
      "[flaml.automl.automl: 03-24 01:02:30] {3334} INFO - iteration 12, current learner extra_tree\n",
      "[flaml.automl.automl: 03-24 01:02:30] {3519} INFO -  at 4.6s,\testimator extra_tree's best error=1.3824,\tbest estimator lgbm's best error=1.2231\n",
      "[flaml.automl.automl: 03-24 01:02:30] {3334} INFO - iteration 13, current learner extra_tree\n",
      "[flaml.automl.automl: 03-24 01:02:31] {3519} INFO -  at 5.0s,\testimator extra_tree's best error=1.2565,\tbest estimator lgbm's best error=1.2231\n",
      "[flaml.automl.automl: 03-24 01:02:31] {3334} INFO - iteration 14, current learner rf\n",
      "[flaml.automl.automl: 03-24 01:02:31] {3519} INFO -  at 5.2s,\testimator rf's best error=1.7184,\tbest estimator lgbm's best error=1.2231\n",
      "[flaml.automl.automl: 03-24 01:02:31] {3334} INFO - iteration 15, current learner xgboost\n",
      "[flaml.automl.automl: 03-24 01:02:32] {3519} INFO -  at 5.6s,\testimator xgboost's best error=2.6572,\tbest estimator lgbm's best error=1.2231\n",
      "[flaml.automl.automl: 03-24 01:02:32] {3334} INFO - iteration 16, current learner rf\n",
      "[flaml.automl.automl: 03-24 01:02:32] {3519} INFO -  at 5.9s,\testimator rf's best error=1.1436,\tbest estimator rf's best error=1.1436\n",
      "[flaml.automl.automl: 03-24 01:02:32] {3334} INFO - iteration 17, current learner extra_tree\n",
      "[flaml.automl.automl: 03-24 01:02:32] {3519} INFO -  at 6.2s,\testimator extra_tree's best error=1.2565,\tbest estimator rf's best error=1.1436\n",
      "[flaml.automl.automl: 03-24 01:02:32] {3334} INFO - iteration 18, current learner lgbm\n",
      "[flaml.automl.automl: 03-24 01:02:33] {3519} INFO -  at 7.1s,\testimator lgbm's best error=1.2231,\tbest estimator rf's best error=1.1436\n",
      "[flaml.automl.automl: 03-24 01:02:33] {3334} INFO - iteration 19, current learner rf\n",
      "[flaml.automl.automl: 03-24 01:02:33] {3519} INFO -  at 7.5s,\testimator rf's best error=1.1436,\tbest estimator rf's best error=1.1436\n",
      "[flaml.automl.automl: 03-24 01:02:33] {3334} INFO - iteration 20, current learner rf\n",
      "[flaml.automl.automl: 03-24 01:02:34] {3519} INFO -  at 7.9s,\testimator rf's best error=1.1312,\tbest estimator rf's best error=1.1312\n",
      "[flaml.automl.automl: 03-24 01:02:34] {3334} INFO - iteration 21, current learner xgboost\n",
      "[flaml.automl.automl: 03-24 01:02:34] {3519} INFO -  at 8.3s,\testimator xgboost's best error=1.4997,\tbest estimator rf's best error=1.1312\n",
      "[flaml.automl.automl: 03-24 01:02:34] {3334} INFO - iteration 22, current learner rf\n",
      "[flaml.automl.automl: 03-24 01:02:35] {3519} INFO -  at 8.7s,\testimator rf's best error=1.1312,\tbest estimator rf's best error=1.1312\n",
      "[flaml.automl.automl: 03-24 01:02:35] {3334} INFO - iteration 23, current learner rf\n",
      "[flaml.automl.automl: 03-24 01:02:35] {3519} INFO -  at 9.2s,\testimator rf's best error=1.1312,\tbest estimator rf's best error=1.1312\n",
      "[flaml.automl.automl: 03-24 01:02:35] {3334} INFO - iteration 24, current learner xgboost\n",
      "[flaml.automl.automl: 03-24 01:02:35] {3519} INFO -  at 9.5s,\testimator xgboost's best error=1.4997,\tbest estimator rf's best error=1.1312\n",
      "[flaml.automl.automl: 03-24 01:02:35] {3334} INFO - iteration 25, current learner extra_tree\n",
      "[flaml.automl.automl: 03-24 01:02:36] {3519} INFO -  at 9.9s,\testimator extra_tree's best error=1.2565,\tbest estimator rf's best error=1.1312\n",
      "[flaml.automl.automl: 03-24 01:02:36] {3334} INFO - iteration 26, current learner rf\n",
      "[flaml.automl.automl: 03-24 01:02:36] {3519} INFO -  at 10.2s,\testimator rf's best error=1.1312,\tbest estimator rf's best error=1.1312\n",
      "[flaml.automl.automl: 03-24 01:02:36] {3334} INFO - iteration 27, current learner xgboost\n",
      "[flaml.automl.automl: 03-24 01:02:36] {3519} INFO -  at 10.6s,\testimator xgboost's best error=1.4726,\tbest estimator rf's best error=1.1312\n",
      "[flaml.automl.automl: 03-24 01:02:36] {3334} INFO - iteration 28, current learner extra_tree\n",
      "[flaml.automl.automl: 03-24 01:02:37] {3519} INFO -  at 11.0s,\testimator extra_tree's best error=1.2565,\tbest estimator rf's best error=1.1312\n",
      "[flaml.automl.automl: 03-24 01:02:37] {3334} INFO - iteration 29, current learner extra_tree\n",
      "[flaml.automl.automl: 03-24 01:02:37] {3519} INFO -  at 11.4s,\testimator extra_tree's best error=1.2565,\tbest estimator rf's best error=1.1312\n",
      "[flaml.automl.automl: 03-24 01:02:37] {3334} INFO - iteration 30, current learner lgbm\n",
      "[flaml.automl.automl: 03-24 01:02:38] {3519} INFO -  at 11.6s,\testimator lgbm's best error=1.2231,\tbest estimator rf's best error=1.1312\n",
      "[flaml.automl.automl: 03-24 01:02:38] {3334} INFO - iteration 31, current learner lgbm\n",
      "[flaml.automl.automl: 03-24 01:02:38] {3519} INFO -  at 12.6s,\testimator lgbm's best error=1.2055,\tbest estimator rf's best error=1.1312\n",
      "[flaml.automl.automl: 03-24 01:02:38] {3334} INFO - iteration 32, current learner rf\n",
      "[flaml.automl.automl: 03-24 01:02:39] {3519} INFO -  at 13.0s,\testimator rf's best error=1.1312,\tbest estimator rf's best error=1.1312\n",
      "[flaml.automl.automl: 03-24 01:02:39] {3334} INFO - iteration 33, current learner extra_tree\n",
      "[flaml.automl.automl: 03-24 01:02:39] {3519} INFO -  at 13.5s,\testimator extra_tree's best error=1.2565,\tbest estimator rf's best error=1.1312\n",
      "[flaml.automl.automl: 03-24 01:02:39] {3334} INFO - iteration 34, current learner rf\n",
      "[flaml.automl.automl: 03-24 01:02:40] {3519} INFO -  at 13.9s,\testimator rf's best error=1.1116,\tbest estimator rf's best error=1.1116\n",
      "[flaml.automl.automl: 03-24 01:02:40] {3334} INFO - iteration 35, current learner rf\n",
      "[flaml.automl.automl: 03-24 01:02:40] {3519} INFO -  at 14.4s,\testimator rf's best error=1.1116,\tbest estimator rf's best error=1.1116\n",
      "[flaml.automl.automl: 03-24 01:02:40] {3334} INFO - iteration 36, current learner extra_tree\n",
      "[flaml.automl.automl: 03-24 01:02:41] {3519} INFO -  at 14.7s,\testimator extra_tree's best error=1.2565,\tbest estimator rf's best error=1.1116\n",
      "[flaml.automl.automl: 03-24 01:02:41] {3334} INFO - iteration 37, current learner rf\n",
      "[flaml.automl.automl: 03-24 01:02:41] {3519} INFO -  at 15.5s,\testimator rf's best error=1.1116,\tbest estimator rf's best error=1.1116\n",
      "[flaml.automl.automl: 03-24 01:02:41] {3334} INFO - iteration 38, current learner rf\n",
      "[flaml.automl.automl: 03-24 01:02:42] {3519} INFO -  at 15.7s,\testimator rf's best error=1.1116,\tbest estimator rf's best error=1.1116\n",
      "[flaml.automl.automl: 03-24 01:02:42] {3334} INFO - iteration 39, current learner rf\n",
      "[flaml.automl.automl: 03-24 01:02:42] {3519} INFO -  at 16.4s,\testimator rf's best error=1.1116,\tbest estimator rf's best error=1.1116\n",
      "[flaml.automl.automl: 03-24 01:02:42] {3334} INFO - iteration 40, current learner rf\n",
      "[flaml.automl.automl: 03-24 01:02:43] {3519} INFO -  at 16.7s,\testimator rf's best error=1.1116,\tbest estimator rf's best error=1.1116\n",
      "[flaml.automl.automl: 03-24 01:02:43] {3334} INFO - iteration 41, current learner extra_tree\n",
      "[flaml.automl.automl: 03-24 01:02:43] {3519} INFO -  at 16.9s,\testimator extra_tree's best error=1.1614,\tbest estimator rf's best error=1.1116\n",
      "[flaml.automl.automl: 03-24 01:02:43] {3334} INFO - iteration 42, current learner lgbm\n",
      "[flaml.automl.automl: 03-24 01:02:44] {3519} INFO -  at 18.1s,\testimator lgbm's best error=1.2055,\tbest estimator rf's best error=1.1116\n",
      "[flaml.automl.automl: 03-24 01:02:44] {3334} INFO - iteration 43, current learner extra_tree\n",
      "[flaml.automl.automl: 03-24 01:02:44] {3519} INFO -  at 18.5s,\testimator extra_tree's best error=1.1614,\tbest estimator rf's best error=1.1116\n",
      "[flaml.automl.automl: 03-24 01:02:44] {3334} INFO - iteration 44, current learner extra_tree\n",
      "[flaml.automl.automl: 03-24 01:02:45] {3519} INFO -  at 18.7s,\testimator extra_tree's best error=1.1614,\tbest estimator rf's best error=1.1116\n",
      "[flaml.automl.automl: 03-24 01:02:45] {3334} INFO - iteration 45, current learner extra_tree\n",
      "[flaml.automl.automl: 03-24 01:02:45] {3519} INFO -  at 19.0s,\testimator extra_tree's best error=1.1614,\tbest estimator rf's best error=1.1116\n",
      "[flaml.automl.automl: 03-24 01:02:45] {3334} INFO - iteration 46, current learner rf\n",
      "[flaml.automl.automl: 03-24 01:02:45] {3519} INFO -  at 19.6s,\testimator rf's best error=1.1116,\tbest estimator rf's best error=1.1116\n",
      "[flaml.automl.automl: 03-24 01:02:45] {3334} INFO - iteration 47, current learner extra_tree\n",
      "[flaml.automl.automl: 03-24 01:02:46] {3519} INFO -  at 20.0s,\testimator extra_tree's best error=1.1614,\tbest estimator rf's best error=1.1116\n",
      "[flaml.automl.automl: 03-24 01:02:46] {3334} INFO - iteration 48, current learner rf\n",
      "[flaml.automl.automl: 03-24 01:02:46] {3519} INFO -  at 20.3s,\testimator rf's best error=1.1116,\tbest estimator rf's best error=1.1116\n",
      "[flaml.automl.automl: 03-24 01:02:46] {3334} INFO - iteration 49, current learner rf\n",
      "[flaml.automl.automl: 03-24 01:02:47] {3519} INFO -  at 21.1s,\testimator rf's best error=1.1116,\tbest estimator rf's best error=1.1116\n",
      "[flaml.automl.automl: 03-24 01:02:47] {3334} INFO - iteration 50, current learner extra_tree\n",
      "[flaml.automl.automl: 03-24 01:02:47] {3519} INFO -  at 21.5s,\testimator extra_tree's best error=1.1614,\tbest estimator rf's best error=1.1116\n",
      "[flaml.automl.automl: 03-24 01:02:47] {3334} INFO - iteration 51, current learner rf\n",
      "[flaml.automl.automl: 03-24 01:02:48] {3519} INFO -  at 22.2s,\testimator rf's best error=1.1116,\tbest estimator rf's best error=1.1116\n",
      "[flaml.automl.automl: 03-24 01:02:48] {3334} INFO - iteration 52, current learner rf\n",
      "[flaml.automl.automl: 03-24 01:02:48] {3519} INFO -  at 22.5s,\testimator rf's best error=1.1116,\tbest estimator rf's best error=1.1116\n",
      "[flaml.automl.automl: 03-24 01:02:48] {3334} INFO - iteration 53, current learner rf\n",
      "[flaml.automl.automl: 03-24 01:02:49] {3519} INFO -  at 23.2s,\testimator rf's best error=1.1046,\tbest estimator rf's best error=1.1046\n",
      "[flaml.automl.automl: 03-24 01:02:49] {3334} INFO - iteration 54, current learner catboost\n"
     ]
    },
    {
     "name": "stderr",
     "output_type": "stream",
     "text": [
      "C:\\ANACONDA\\envs\\my_env\\lib\\site-packages\\catboost\\core.py:1411: FutureWarning: iteritems is deprecated and will be removed in a future version. Use .items instead.\n",
      "  self._init_pool(data, label, cat_features, text_features, embedding_features, embedding_features_data, pairs, weight,\n",
      "C:\\ANACONDA\\envs\\my_env\\lib\\site-packages\\catboost\\core.py:1411: FutureWarning: iteritems is deprecated and will be removed in a future version. Use .items instead.\n",
      "  self._init_pool(data, label, cat_features, text_features, embedding_features, embedding_features_data, pairs, weight,\n",
      "C:\\ANACONDA\\envs\\my_env\\lib\\site-packages\\catboost\\core.py:1411: FutureWarning: iteritems is deprecated and will be removed in a future version. Use .items instead.\n",
      "  self._init_pool(data, label, cat_features, text_features, embedding_features, embedding_features_data, pairs, weight,\n",
      "C:\\ANACONDA\\envs\\my_env\\lib\\site-packages\\catboost\\core.py:1411: FutureWarning: iteritems is deprecated and will be removed in a future version. Use .items instead.\n",
      "  self._init_pool(data, label, cat_features, text_features, embedding_features, embedding_features_data, pairs, weight,\n",
      "C:\\ANACONDA\\envs\\my_env\\lib\\site-packages\\catboost\\core.py:1411: FutureWarning: iteritems is deprecated and will be removed in a future version. Use .items instead.\n",
      "  self._init_pool(data, label, cat_features, text_features, embedding_features, embedding_features_data, pairs, weight,\n"
     ]
    },
    {
     "name": "stdout",
     "output_type": "stream",
     "text": [
      "[flaml.automl.automl: 03-24 01:02:52] {3519} INFO -  at 25.8s,\testimator catboost's best error=1.1458,\tbest estimator rf's best error=1.1046\n",
      "[flaml.automl.automl: 03-24 01:02:52] {3334} INFO - iteration 55, current learner lgbm\n",
      "[flaml.automl.automl: 03-24 01:02:52] {3519} INFO -  at 26.6s,\testimator lgbm's best error=1.2055,\tbest estimator rf's best error=1.1046\n",
      "[flaml.automl.automl: 03-24 01:02:52] {3334} INFO - iteration 56, current learner catboost\n"
     ]
    },
    {
     "name": "stderr",
     "output_type": "stream",
     "text": [
      "C:\\ANACONDA\\envs\\my_env\\lib\\site-packages\\catboost\\core.py:1411: FutureWarning: iteritems is deprecated and will be removed in a future version. Use .items instead.\n",
      "  self._init_pool(data, label, cat_features, text_features, embedding_features, embedding_features_data, pairs, weight,\n",
      "C:\\ANACONDA\\envs\\my_env\\lib\\site-packages\\catboost\\core.py:1411: FutureWarning: iteritems is deprecated and will be removed in a future version. Use .items instead.\n",
      "  self._init_pool(data, label, cat_features, text_features, embedding_features, embedding_features_data, pairs, weight,\n",
      "C:\\ANACONDA\\envs\\my_env\\lib\\site-packages\\catboost\\core.py:1411: FutureWarning: iteritems is deprecated and will be removed in a future version. Use .items instead.\n",
      "  self._init_pool(data, label, cat_features, text_features, embedding_features, embedding_features_data, pairs, weight,\n",
      "C:\\ANACONDA\\envs\\my_env\\lib\\site-packages\\catboost\\core.py:1411: FutureWarning: iteritems is deprecated and will be removed in a future version. Use .items instead.\n",
      "  self._init_pool(data, label, cat_features, text_features, embedding_features, embedding_features_data, pairs, weight,\n",
      "C:\\ANACONDA\\envs\\my_env\\lib\\site-packages\\catboost\\core.py:1411: FutureWarning: iteritems is deprecated and will be removed in a future version. Use .items instead.\n",
      "  self._init_pool(data, label, cat_features, text_features, embedding_features, embedding_features_data, pairs, weight,\n"
     ]
    },
    {
     "name": "stdout",
     "output_type": "stream",
     "text": [
      "[flaml.automl.automl: 03-24 01:02:55] {3519} INFO -  at 29.2s,\testimator catboost's best error=1.1458,\tbest estimator rf's best error=1.1046\n",
      "[flaml.automl.automl: 03-24 01:02:55] {3334} INFO - iteration 57, current learner rf\n",
      "[flaml.automl.automl: 03-24 01:02:56] {3519} INFO -  at 29.9s,\testimator rf's best error=1.1046,\tbest estimator rf's best error=1.1046\n",
      "[flaml.automl.automl: 03-24 01:02:56] {3334} INFO - iteration 58, current learner xgb_limitdepth\n",
      "[flaml.automl.automl: 03-24 01:02:56] {3519} INFO -  at 30.0s,\testimator xgb_limitdepth's best error=5.1718,\tbest estimator rf's best error=1.1046\n",
      "[flaml.automl.automl: 03-24 01:02:56] {3783} INFO - retrain rf for 0.2s\n",
      "[flaml.automl.automl: 03-24 01:02:56] {3790} INFO - retrained model: RandomForestRegressor(max_features=0.8309485929315814, max_leaf_nodes=19,\n",
      "                      n_estimators=27, n_jobs=-1, random_state=12032022)\n",
      "[flaml.automl.automl: 03-24 01:02:56] {3034} INFO - fit succeeded\n",
      "[flaml.automl.automl: 03-24 01:02:56] {3035} INFO - Time taken to find the best model: 23.15803027153015\n"
     ]
    }
   ],
   "source": [
    "automl2.fit(X_train,y_train, **automl_settings)"
   ]
  },
  {
   "cell_type": "code",
   "execution_count": 67,
   "id": "dd3bcff4-4dd1-43c0-b00d-db27d821da2f",
   "metadata": {},
   "outputs": [],
   "source": [
    "#automl.predict(test)"
   ]
  },
  {
   "cell_type": "code",
   "execution_count": 68,
   "id": "beb6485b-47ee-4c2d-9c6c-a6e36b792dfa",
   "metadata": {},
   "outputs": [
    {
     "data": {
      "text/plain": [
       "1.1046480536466659"
      ]
     },
     "execution_count": 68,
     "metadata": {},
     "output_type": "execute_result"
    }
   ],
   "source": [
    "automl.best_loss"
   ]
  },
  {
   "cell_type": "code",
   "execution_count": 69,
   "id": "7569eb3f-dbad-4a0e-b5a3-f5f81704df2b",
   "metadata": {},
   "outputs": [
    {
     "data": {
      "text/plain": [
       "1.1046480536466659"
      ]
     },
     "execution_count": 69,
     "metadata": {},
     "output_type": "execute_result"
    }
   ],
   "source": [
    "automl2.best_loss"
   ]
  },
  {
   "cell_type": "code",
   "execution_count": 70,
   "id": "4eb0a0f7-e901-41d8-b812-20e05c27cbfd",
   "metadata": {},
   "outputs": [
    {
     "data": {
      "text/plain": [
       "'rf'"
      ]
     },
     "execution_count": 70,
     "metadata": {},
     "output_type": "execute_result"
    }
   ],
   "source": [
    "automl2.best_estimator"
   ]
  },
  {
   "cell_type": "code",
   "execution_count": 71,
   "id": "e20d152a-5fe4-45ca-96c3-15b461120859",
   "metadata": {},
   "outputs": [
    {
     "data": {
      "text/plain": [
       "{'pred_time': 4.787698097681218e-05,\n",
       " 'wall_clock_time': 23.15803027153015,\n",
       " 'metric_for_logging': {'pred_time': 4.787698097681218e-05},\n",
       " 'val_loss': 1.1046480536466659,\n",
       " 'training_iteration': 1,\n",
       " 'config': {'n_estimators': 27,\n",
       "  'max_features': 0.8309485929315814,\n",
       "  'max_leaves': 19},\n",
       " 'config/n_estimators': 27,\n",
       " 'config/max_features': 0.8309485929315814,\n",
       " 'config/max_leaves': 19,\n",
       " 'experiment_tag': 'exp',\n",
       " 'time_total_s': 0.6622488498687744}"
      ]
     },
     "execution_count": 71,
     "metadata": {},
     "output_type": "execute_result"
    }
   ],
   "source": [
    "automl2.best_result"
   ]
  },
  {
   "cell_type": "code",
   "execution_count": null,
   "id": "fc896489-7588-4b94-a8d1-848184092f95",
   "metadata": {},
   "outputs": [],
   "source": []
  },
  {
   "cell_type": "code",
   "execution_count": 72,
   "id": "cfec7a50-6133-4aba-9f10-9d0a640977f4",
   "metadata": {},
   "outputs": [],
   "source": [
    "#sub['sleep_hours'] = automl2.predict(test)"
   ]
  },
  {
   "cell_type": "code",
   "execution_count": 73,
   "id": "be72f5ac-0e6c-4eb3-ad6a-b0fdac30b347",
   "metadata": {},
   "outputs": [],
   "source": [
    "#sub.to_csv('automl_4.csv',index=False)"
   ]
  },
  {
   "cell_type": "code",
   "execution_count": null,
   "id": "b3e615f4-8ba2-4f46-a0f6-f7af160c5d0f",
   "metadata": {},
   "outputs": [],
   "source": []
  },
  {
   "cell_type": "code",
   "execution_count": 74,
   "id": "1b7fce67-16e0-48da-94e4-30b6c201827a",
   "metadata": {},
   "outputs": [
    {
     "data": {
      "text/plain": [
       "<AxesSubplot:>"
      ]
     },
     "execution_count": 74,
     "metadata": {},
     "output_type": "execute_result"
    },
    {
     "data": {
      "image/png": "[encoded data removed]",
      "text/plain": [
       "<Figure size 432x288 with 1 Axes>"
      ]
     },
     "metadata": {
      "needs_background": "light"
     },
     "output_type": "display_data"
    }
   ],
   "source": [
    "y.plot()"
   ]
  },
  {
   "cell_type": "code",
   "execution_count": 75,
   "id": "80465232-c15a-4062-8bc7-8f60a8d1fb40",
   "metadata": {},
   "outputs": [
    {
     "data": {
      "text/plain": [
       "<AxesSubplot:>"
      ]
     },
     "execution_count": 75,
     "metadata": {},
     "output_type": "execute_result"
    },
    {
     "data": {
      "image/png": "[encoded data removed]",
      "text/plain": [
       "<Figure size 864x432 with 1 Axes>"
      ]
     },
     "metadata": {
      "needs_background": "light"
     },
     "output_type": "display_data"
    }
   ],
   "source": [
    "y_train.reset_index()['sleep_hours'].plot(figsize=(12,6))"
   ]
  },
  {
   "cell_type": "code",
   "execution_count": 76,
   "id": "91f79bb2-99a0-4d7c-aa49-070eb27791d6",
   "metadata": {},
   "outputs": [
    {
     "data": {
      "text/plain": [
       "<AxesSubplot:>"
      ]
     },
     "execution_count": 76,
     "metadata": {},
     "output_type": "execute_result"
    },
    {
     "data": {
      "image/png": "[encoded data removed]",
      "text/plain": [
       "<Figure size 432x288 with 1 Axes>"
      ]
     },
     "metadata": {
      "needs_background": "light"
     },
     "output_type": "display_data"
    }
   ],
   "source": [
    "y_test.reset_index()['sleep_hours'].plot()"
   ]
  },
  {
   "cell_type": "code",
   "execution_count": null,
   "id": "ca9073ec-0276-4645-bbaf-b14c9030dc3f",
   "metadata": {},
   "outputs": [],
   "source": []
  },
  {
   "cell_type": "code",
   "execution_count": 77,
   "id": "78b65495-5ae5-41a9-b9c8-800a4e8edacd",
   "metadata": {},
   "outputs": [],
   "source": [
    "#df3.to_csv('trained_preprocessed.csv',index=False)"
   ]
  },
  {
   "cell_type": "code",
   "execution_count": 78,
   "id": "ca9b10b2-1b64-46bf-bfd6-ed533af7a139",
   "metadata": {},
   "outputs": [],
   "source": [
    "#test.drop('sleep_hours',axis=1).to_csv('test_preprocessed.csv',index=False)"
   ]
  }
 ],
 "metadata": {
  "kernelspec": {
   "display_name": "my_env",
   "language": "python",
   "name": "my_env"
  },
  "language_info": {
   "codemirror_mode": {
    "name": "ipython",
    "version": 3
   },
   "file_extension": ".py",
   "mimetype": "text/x-python",
   "name": "python",
   "nbconvert_exporter": "python",
   "pygments_lexer": "ipython3",
   "version": "3.10.4"
  }
 },
 "nbformat": 4,
 "nbformat_minor": 5
}
